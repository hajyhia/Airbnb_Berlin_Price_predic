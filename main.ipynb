{
 "cells": [
  {
   "cell_type": "code",
   "execution_count": 4,
   "metadata": {
    "collapsed": true
   },
   "outputs": [
    {
     "name": "stdout",
     "output_type": "stream",
     "text": [
      "<class 'pandas.core.frame.DataFrame'>\n",
      "RangeIndex: 66833 entries, 0 to 66832\n",
      "Data columns (total 47 columns):\n",
      " #   Column                 Non-Null Count  Dtype  \n",
      "---  ------                 --------------  -----  \n",
      " 0   index                  66833 non-null  int64  \n",
      " 1   Review ID              66833 non-null  float64\n",
      " 2   review_date            66833 non-null  object \n",
      " 3   Reviewer ID            66833 non-null  float64\n",
      " 4   Reviewer Name          66833 non-null  object \n",
      " 5   Comments               66782 non-null  object \n",
      " 6   Listing ID             66833 non-null  int64  \n",
      " 7   Listing URL            66833 non-null  object \n",
      " 8   Listing Name           66817 non-null  object \n",
      " 9   Host ID                66833 non-null  int64  \n",
      " 10  Host URL               66833 non-null  object \n",
      " 11  Host Name              66833 non-null  object \n",
      " 12  Host Since             66833 non-null  object \n",
      " 13  Host Response Time     65868 non-null  object \n",
      " 14  Host Response Rate     65868 non-null  object \n",
      " 15  Is Superhost           66833 non-null  object \n",
      " 16  neighbourhood          66833 non-null  object \n",
      " 17  Neighborhood Group     66833 non-null  object \n",
      " 18  City                   66824 non-null  object \n",
      " 19  Postal Code            65737 non-null  object \n",
      " 20  Country Code           66833 non-null  object \n",
      " 21  Country                66833 non-null  object \n",
      " 22  Latitude               66833 non-null  float64\n",
      " 23  Longitude              66833 non-null  float64\n",
      " 24  Is Exact Location      66833 non-null  object \n",
      " 25  Property Type          66833 non-null  object \n",
      " 26  Room Type              66833 non-null  object \n",
      " 27  Accomodates            66833 non-null  int64  \n",
      " 28  Bathrooms              66791 non-null  float64\n",
      " 29  Bedrooms               66763 non-null  float64\n",
      " 30  Beds                   66829 non-null  float64\n",
      " 31  Square Feet            2071 non-null   float64\n",
      " 32  Price                  66833 non-null  object \n",
      " 33  Guests Included        66833 non-null  int64  \n",
      " 34  Min Nights             66833 non-null  int64  \n",
      " 35  Reviews                66833 non-null  int64  \n",
      " 36  First Review           66833 non-null  object \n",
      " 37  Last Review            66833 non-null  object \n",
      " 38  Overall Rating         66719 non-null  float64\n",
      " 39  Accuracy Rating        66719 non-null  float64\n",
      " 40  Cleanliness Rating     66719 non-null  float64\n",
      " 41  Checkin Rating         66719 non-null  float64\n",
      " 42  Communication Rating   66719 non-null  float64\n",
      " 43  Location Rating        66719 non-null  float64\n",
      " 44  Value Rating           66719 non-null  float64\n",
      " 45  Instant Bookable       66833 non-null  object \n",
      " 46  Business Travel Ready  66833 non-null  object \n",
      "dtypes: float64(15), int64(7), object(25)\n",
      "memory usage: 24.0+ MB\n"
     ]
    },
    {
     "name": "stderr",
     "output_type": "stream",
     "text": [
      "C:\\Users\\shehabh\\AppData\\Local\\Temp\\ipykernel_15716\\1182410571.py:3: DtypeWarning: Columns (19,32) have mixed types. Specify dtype option on import or set low_memory=False.\n",
      "  df = pd.read_csv('./content/AirbnbBerlin_2019.csv')\n"
     ]
    }
   ],
   "source": [
    "import pandas as pd\n",
    "\n",
    "df = pd.read_csv('./content/AirbnbBerlin_2019.csv')\n",
    "df.info()"
   ]
  },
  {
   "cell_type": "code",
   "execution_count": null,
   "outputs": [],
   "source": [],
   "metadata": {
    "collapsed": false
   }
  }
 ],
 "metadata": {
  "kernelspec": {
   "display_name": "Python 3",
   "language": "python",
   "name": "python3"
  },
  "language_info": {
   "codemirror_mode": {
    "name": "ipython",
    "version": 2
   },
   "file_extension": ".py",
   "mimetype": "text/x-python",
   "name": "python",
   "nbconvert_exporter": "python",
   "pygments_lexer": "ipython2",
   "version": "2.7.6"
  }
 },
 "nbformat": 4,
 "nbformat_minor": 0
}
