{
  "nbformat": 4,
  "nbformat_minor": 0,
  "metadata": {
    "colab": {
      "provenance": [],
      "toc_visible": true
    },
    "kernelspec": {
      "name": "python3",
      "display_name": "Python 3"
    },
    "language_info": {
      "name": "python"
    }
  },
  "cells": [
    {
      "cell_type": "code",
      "source": [
        "# !pip install missingno\n",
        "# !pip install geopy"
      ],
      "metadata": {
        "id": "-L1XbnrJYgiZ"
      },
      "execution_count": null,
      "outputs": []
    },
    {
      "cell_type": "code",
      "source": [
        "import seaborn as sns\n",
        "import matplotlib.pyplot as plt\n",
        "import pandas as pd\n",
        "import numpy as np\n",
        "import warnings\n",
        "\n",
        "# Ignore warnings\n",
        "warnings.filterwarnings('ignore')\n",
        "pd.set_option('display.max_columns', None)"
      ],
      "metadata": {
        "id": "FwFelltQfgFE"
      },
      "execution_count": 1,
      "outputs": []
    },
    {
      "cell_type": "code",
      "execution_count": 2,
      "metadata": {
        "id": "3Dj3TXKX8skK",
        "colab": {
          "base_uri": "https://localhost:8080/"
        },
        "outputId": "4f24aeef-eb07-4dc8-c693-08b276143042"
      },
      "outputs": [
        {
          "output_type": "stream",
          "name": "stdout",
          "text": [
            "Mounted at /content/drive\n"
          ]
        }
      ],
      "source": [
        "from google.colab import drive\n",
        "drive.mount('/content/drive')"
      ]
    },
    {
      "cell_type": "code",
      "source": [
        "df_EDA = pd.read_csv('/content/drive/My Drive/Airbnb/df_EDA.csv', index_col=0)"
      ],
      "metadata": {
        "id": "01IKm7fk9D4J"
      },
      "execution_count": 21,
      "outputs": []
    },
    {
      "cell_type": "code",
      "source": [
        "df = df_EDA.copy()"
      ],
      "metadata": {
        "id": "eMm0EcF3sGxC"
      },
      "execution_count": 25,
      "outputs": []
    },
    {
      "cell_type": "code",
      "source": [
        "df.info()"
      ],
      "metadata": {
        "id": "sHlB2D3QqflC",
        "outputId": "59e3cf1d-cabb-4cb9-fd1d-810dd00aa4bc",
        "colab": {
          "base_uri": "https://localhost:8080/"
        }
      },
      "execution_count": 26,
      "outputs": [
        {
          "output_type": "stream",
          "name": "stdout",
          "text": [
            "<class 'pandas.core.frame.DataFrame'>\n",
            "Index: 23536 entries, 0 to 23535\n",
            "Data columns (total 46 columns):\n",
            " #   Column                 Non-Null Count  Dtype  \n",
            "---  ------                 --------------  -----  \n",
            " 0   Listing ID             23536 non-null  int64  \n",
            " 1   Accomodates            23536 non-null  float64\n",
            " 2   Accuracy Rating        18888 non-null  float64\n",
            " 3   Bathrooms              23507 non-null  float64\n",
            " 4   Bedrooms               23516 non-null  float64\n",
            " 5   Beds                   23501 non-null  float64\n",
            " 6   Checkin Rating         18870 non-null  float64\n",
            " 7   Cleanliness Rating     18892 non-null  float64\n",
            " 8   Communication Rating   18886 non-null  float64\n",
            " 9   Guests Included        23536 non-null  float64\n",
            " 10  Host Response Rate     13046 non-null  float64\n",
            " 11  Latitude               23536 non-null  float64\n",
            " 12  Location Rating        18871 non-null  float64\n",
            " 13  Longitude              23536 non-null  float64\n",
            " 14  Min Nights             23536 non-null  float64\n",
            " 15  Overall Rating         18914 non-null  float64\n",
            " 16  Price                  23536 non-null  float64\n",
            " 17  Reviews                23536 non-null  float64\n",
            " 18  Value Rating           18868 non-null  float64\n",
            " 19  review_date            19380 non-null  object \n",
            " 20  Comments               19378 non-null  object \n",
            " 21  Host Since             23515 non-null  object \n",
            " 22  Host Response Time     13046 non-null  object \n",
            " 23  Is Superhost           23515 non-null  object \n",
            " 24  neighbourhood          23536 non-null  object \n",
            " 25  Neighborhood Group     23536 non-null  object \n",
            " 26  Postal Code            22951 non-null  float64\n",
            " 27  Is Exact Location      23536 non-null  bool   \n",
            " 28  Property Type          23536 non-null  object \n",
            " 29  Room Type              23536 non-null  object \n",
            " 30  First Review           19380 non-null  object \n",
            " 31  Last Review            19380 non-null  object \n",
            " 32  Instant Bookable       23536 non-null  bool   \n",
            " 33  Neighbourhood Grouped  23536 non-null  object \n",
            " 34  Property Type Reduced  23536 non-null  object \n",
            " 35  Postal Code Reduced    23536 non-null  object \n",
            " 36  Host Since Year        23515 non-null  float64\n",
            " 37  First Review Year      19380 non-null  float64\n",
            " 38  First Review Month     19380 non-null  float64\n",
            " 39  First Review Day       19380 non-null  float64\n",
            " 40  Last Review Year       19380 non-null  float64\n",
            " 41  Last Review Month      19380 non-null  float64\n",
            " 42  Last Review Day        19380 non-null  float64\n",
            " 43  Review Date Year       19380 non-null  float64\n",
            " 44  Review Date Month      19380 non-null  float64\n",
            " 45  Review Date Day        19380 non-null  float64\n",
            "dtypes: bool(2), float64(29), int64(1), object(14)\n",
            "memory usage: 8.1+ MB\n"
          ]
        }
      ]
    }
  ]
}