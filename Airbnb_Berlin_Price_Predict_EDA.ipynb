{
  "nbformat": 4,
  "nbformat_minor": 0,
  "metadata": {
    "colab": {
      "provenance": [],
      "toc_visible": true
    },
    "kernelspec": {
      "name": "python3",
      "display_name": "Python 3"
    },
    "language_info": {
      "name": "python"
    }
  },
  "cells": [
    {
      "cell_type": "code",
      "source": [
        "# !pip install missingno\n",
        "# !pip install geopy"
      ],
      "metadata": {
        "id": "-L1XbnrJYgiZ"
      },
      "execution_count": null,
      "outputs": []
    },
    {
      "cell_type": "code",
      "source": [
        "import seaborn as sns\n",
        "import matplotlib.pyplot as plt\n",
        "import pandas as pd\n",
        "import numpy as np\n",
        "import warnings\n",
        "\n",
        "# Ignore warnings\n",
        "warnings.filterwarnings('ignore')\n",
        "pd.set_option('display.max_columns', None)"
      ],
      "metadata": {
        "id": "FwFelltQfgFE"
      },
      "execution_count": 1,
      "outputs": []
    },
    {
      "cell_type": "code",
      "execution_count": 2,
      "metadata": {
        "id": "3Dj3TXKX8skK",
        "colab": {
          "base_uri": "https://localhost:8080/"
        },
        "outputId": "4f24aeef-eb07-4dc8-c693-08b276143042"
      },
      "outputs": [
        {
          "output_type": "stream",
          "name": "stdout",
          "text": [
            "Mounted at /content/drive\n"
          ]
        }
      ],
      "source": [
        "from google.colab import drive\n",
        "drive.mount('/content/drive')"
      ]
    },
    {
      "cell_type": "code",
      "source": [
        "df_EDA = pd.read_csv('/content/drive/My Drive/Airbnb/df_EDA.csv', index_col=0)"
      ],
      "metadata": {
        "id": "01IKm7fk9D4J"
      },
      "execution_count": 21,
      "outputs": []
    },
    {
      "cell_type": "code",
      "source": [
        "df = df_EDA.copy()"
      ],
      "metadata": {
        "id": "eMm0EcF3sGxC"
      },
      "execution_count": 25,
      "outputs": []
    },
    {
      "cell_type": "code",
      "source": [
        "df.info()"
      ],
      "metadata": {
        "colab": {
          "base_uri": "https://localhost:8080/"
        },
        "id": "sHlB2D3QqflC",
        "outputId": "59e3cf1d-cabb-4cb9-fd1d-810dd00aa4bc"
      },
      "execution_count": 26,
      "outputs": [
        {
          "output_type": "stream",
          "name": "stdout",
          "text": [
            "<class 'pandas.core.frame.DataFrame'>\n",
            "Index: 23536 entries, 0 to 23535\n",
            "Data columns (total 46 columns):\n",
            " #   Column                 Non-Null Count  Dtype  \n",
            "---  ------                 --------------  -----  \n",
            " 0   Listing ID             23536 non-null  int64  \n",
            " 1   Accomodates            23536 non-null  float64\n",
            " 2   Accuracy Rating        18888 non-null  float64\n",
            " 3   Bathrooms              23507 non-null  float64\n",
            " 4   Bedrooms               23516 non-null  float64\n",
            " 5   Beds                   23501 non-null  float64\n",
            " 6   Checkin Rating         18870 non-null  float64\n",
            " 7   Cleanliness Rating     18892 non-null  float64\n",
            " 8   Communication Rating   18886 non-null  float64\n",
            " 9   Guests Included        23536 non-null  float64\n",
            " 10  Host Response Rate     13046 non-null  float64\n",
            " 11  Latitude               23536 non-null  float64\n",
            " 12  Location Rating        18871 non-null  float64\n",
            " 13  Longitude              23536 non-null  float64\n",
            " 14  Min Nights             23536 non-null  float64\n",
            " 15  Overall Rating         18914 non-null  float64\n",
            " 16  Price                  23536 non-null  float64\n",
            " 17  Reviews                23536 non-null  float64\n",
            " 18  Value Rating           18868 non-null  float64\n",
            " 19  review_date            19380 non-null  object \n",
            " 20  Comments               19378 non-null  object \n",
            " 21  Host Since             23515 non-null  object \n",
            " 22  Host Response Time     13046 non-null  object \n",
            " 23  Is Superhost           23515 non-null  object \n",
            " 24  neighbourhood          23536 non-null  object \n",
            " 25  Neighborhood Group     23536 non-null  object \n",
            " 26  Postal Code            22951 non-null  float64\n",
            " 27  Is Exact Location      23536 non-null  bool   \n",
            " 28  Property Type          23536 non-null  object \n",
            " 29  Room Type              23536 non-null  object \n",
            " 30  First Review           19380 non-null  object \n",
            " 31  Last Review            19380 non-null  object \n",
            " 32  Instant Bookable       23536 non-null  bool   \n",
            " 33  Neighbourhood Grouped  23536 non-null  object \n",
            " 34  Property Type Reduced  23536 non-null  object \n",
            " 35  Postal Code Reduced    23536 non-null  object \n",
            " 36  Host Since Year        23515 non-null  float64\n",
            " 37  First Review Year      19380 non-null  float64\n",
            " 38  First Review Month     19380 non-null  float64\n",
            " 39  First Review Day       19380 non-null  float64\n",
            " 40  Last Review Year       19380 non-null  float64\n",
            " 41  Last Review Month      19380 non-null  float64\n",
            " 42  Last Review Day        19380 non-null  float64\n",
            " 43  Review Date Year       19380 non-null  float64\n",
            " 44  Review Date Month      19380 non-null  float64\n",
            " 45  Review Date Day        19380 non-null  float64\n",
            "dtypes: bool(2), float64(29), int64(1), object(14)\n",
            "memory usage: 8.1+ MB\n"
          ]
        }
      ]
    },
    {
      "cell_type": "code",
      "source": [
        "# df = df.drop(columns=['Review ID', 'Reviewer ID', 'Reviewer Name', 'Listing URL','Listing Name',\n",
        "#                       'Host URL', 'Host Name', 'City', 'Country Code', 'Country','Comments'])"
      ],
      "metadata": {
        "id": "r6rhanVN3930"
      },
      "execution_count": null,
      "outputs": []
    },
    {
      "cell_type": "markdown",
      "source": [
        "# EDA - Explenatory Data Analysis"
      ],
      "metadata": {
        "id": "2in5s9KPws7k"
      }
    },
    {
      "cell_type": "markdown",
      "source": [
        "# EDA - Explenatory Data Analysis - GPT"
      ],
      "metadata": {
        "id": "XbTvrTN72bHz"
      }
    },
    {
      "cell_type": "code",
      "source": [
        "df.info()"
      ],
      "metadata": {
        "id": "H4ZmLeiq2qOA",
        "outputId": "1d8719e2-88ac-4613-e2e3-f26b1cd0d973",
        "colab": {
          "base_uri": "https://localhost:8080/"
        }
      },
      "execution_count": 29,
      "outputs": [
        {
          "output_type": "stream",
          "name": "stdout",
          "text": [
            "<class 'pandas.core.frame.DataFrame'>\n",
            "Index: 23536 entries, 0 to 23535\n",
            "Data columns (total 46 columns):\n",
            " #   Column                 Non-Null Count  Dtype  \n",
            "---  ------                 --------------  -----  \n",
            " 0   Listing ID             23536 non-null  int64  \n",
            " 1   Accomodates            23536 non-null  float64\n",
            " 2   Accuracy Rating        18888 non-null  float64\n",
            " 3   Bathrooms              23507 non-null  float64\n",
            " 4   Bedrooms               23516 non-null  float64\n",
            " 5   Beds                   23501 non-null  float64\n",
            " 6   Checkin Rating         18870 non-null  float64\n",
            " 7   Cleanliness Rating     18892 non-null  float64\n",
            " 8   Communication Rating   18886 non-null  float64\n",
            " 9   Guests Included        23536 non-null  float64\n",
            " 10  Host Response Rate     13046 non-null  float64\n",
            " 11  Latitude               23536 non-null  float64\n",
            " 12  Location Rating        18871 non-null  float64\n",
            " 13  Longitude              23536 non-null  float64\n",
            " 14  Min Nights             23536 non-null  float64\n",
            " 15  Overall Rating         18914 non-null  float64\n",
            " 16  Price                  23536 non-null  float64\n",
            " 17  Reviews                23536 non-null  float64\n",
            " 18  Value Rating           18868 non-null  float64\n",
            " 19  review_date            19380 non-null  object \n",
            " 20  Comments               19378 non-null  object \n",
            " 21  Host Since             23515 non-null  object \n",
            " 22  Host Response Time     13046 non-null  object \n",
            " 23  Is Superhost           23515 non-null  object \n",
            " 24  neighbourhood          23536 non-null  object \n",
            " 25  Neighborhood Group     23536 non-null  object \n",
            " 26  Postal Code            22951 non-null  float64\n",
            " 27  Is Exact Location      23536 non-null  bool   \n",
            " 28  Property Type          23536 non-null  object \n",
            " 29  Room Type              23536 non-null  object \n",
            " 30  First Review           19380 non-null  object \n",
            " 31  Last Review            19380 non-null  object \n",
            " 32  Instant Bookable       23536 non-null  bool   \n",
            " 33  Neighbourhood Grouped  23536 non-null  object \n",
            " 34  Property Type Reduced  23536 non-null  object \n",
            " 35  Postal Code Reduced    23536 non-null  object \n",
            " 36  Host Since Year        23515 non-null  float64\n",
            " 37  First Review Year      19380 non-null  float64\n",
            " 38  First Review Month     19380 non-null  float64\n",
            " 39  First Review Day       19380 non-null  float64\n",
            " 40  Last Review Year       19380 non-null  float64\n",
            " 41  Last Review Month      19380 non-null  float64\n",
            " 42  Last Review Day        19380 non-null  float64\n",
            " 43  Review Date Year       19380 non-null  float64\n",
            " 44  Review Date Month      19380 non-null  float64\n",
            " 45  Review Date Day        19380 non-null  float64\n",
            "dtypes: bool(2), float64(29), int64(1), object(14)\n",
            "memory usage: 8.1+ MB\n"
          ]
        }
      ]
    },
    {
      "cell_type": "markdown",
      "source": [
        "I've conducted an exploratory data analysis (EDA) on your dataset, covering:\n",
        "\n",
        "1. Missing Values Analysis: Visualized the missing values in a heatmap and bar chart.\n",
        "2. Summary Statistics: Displayed key statistics for numerical columns.\n",
        "3. Numerical Feature Distributions: Plotted histograms for features like price, reviews, ratings, and accommodations.\n",
        "4. Correlation Analysis: Generated a heatmap to highlight relationships between numerical variables.\n",
        "5. Categorical Feature Analysis: Visualized the distribution of key categorical variables."
      ],
      "metadata": {
        "id": "vGs2phGK4_q0"
      }
    },
    {
      "cell_type": "markdown",
      "source": [
        "### Summary statistics"
      ],
      "metadata": {
        "id": "gXnob4Bh4Uy2"
      }
    },
    {
      "cell_type": "code",
      "source": [
        "# Proceeding without missingno, using alternative visualization\n",
        "\n",
        "# Summary statistics\n",
        "summary_stats = df.describe()\n",
        "print(\"Summary Statistics:\")\n",
        "print(summary_stats)"
      ],
      "metadata": {
        "id": "Dh-fACfE2hUM"
      },
      "execution_count": null,
      "outputs": []
    },
    {
      "cell_type": "markdown",
      "source": [
        "## Missing values"
      ],
      "metadata": {
        "id": "hBemY-Zo5SKB"
      }
    },
    {
      "cell_type": "code",
      "source": [
        "# Check for missing values\n",
        "missing_values = df.isnull().sum()\n",
        "\n",
        "# Visualizing missing values\n",
        "plt.figure(figsize=(12, 6))\n",
        "sns.heatmap(df.isnull(), cbar=False, cmap='viridis')\n",
        "plt.title(\"Missing Values Heatmap\")\n",
        "plt.show()\n",
        "\n",
        "# Display missing values as a bar chart\n",
        "missing_values = missing_values[missing_values > 0].sort_values(ascending=False)\n",
        "plt.figure(figsize=(12, 6))\n",
        "sns.barplot(x=missing_values.values, y=missing_values.index, palette=\"viridis\")\n",
        "plt.xlabel(\"Count of Missing Values\")\n",
        "plt.ylabel(\"Columns\")\n",
        "plt.title(\"Missing Values Count per Column\")\n",
        "plt.show()\n",
        "\n",
        "\n",
        "print(\"\\nMissing Values:\")\n",
        "print(missing_values)"
      ],
      "metadata": {
        "id": "jxmM4X4v5ScP"
      },
      "execution_count": null,
      "outputs": []
    },
    {
      "cell_type": "markdown",
      "source": [
        "## Checking the distribution of key numerical features"
      ],
      "metadata": {
        "id": "-TPHqqi-4Kjs"
      }
    },
    {
      "cell_type": "code",
      "source": [
        "# Checking the distribution of key numerical features\n",
        "numerical_columns = [\n",
        "    \"Price\", \"Reviews\", \"Overall Rating\", \"Bedrooms\", \"Bathrooms\", \"Beds\", \"Accomodates\"\n",
        "]\n",
        "\n",
        "plt.figure(figsize=(12, 10))\n",
        "for i, col in enumerate(numerical_columns, 1):\n",
        "    plt.subplot(4, 2, i)\n",
        "    sns.histplot(df[col].dropna(), bins=30, kde=True)\n",
        "    plt.title(f\"Distribution of {col}\")\n",
        "\n",
        "plt.tight_layout()\n",
        "plt.show()\n"
      ],
      "metadata": {
        "id": "Fcu7QNv74Ijw"
      },
      "execution_count": null,
      "outputs": []
    },
    {
      "cell_type": "markdown",
      "source": [
        "## Checking correlations among numerical features"
      ],
      "metadata": {
        "id": "orL9JEsW4ZnF"
      }
    },
    {
      "cell_type": "code",
      "source": [
        "# Checking correlations among numerical features\n",
        "plt.figure(figsize=(12, 8))\n",
        "correlation_matrix = df[numerical_columns].corr()\n",
        "sns.heatmap(correlation_matrix, annot=True, cmap=\"coolwarm\", fmt=\".2f\", linewidths=0.5)\n",
        "plt.title(\"Correlation Matrix of Numerical Features\")\n",
        "plt.show()\n"
      ],
      "metadata": {
        "id": "d6CnADWc4bni"
      },
      "execution_count": null,
      "outputs": []
    },
    {
      "cell_type": "markdown",
      "source": [
        "## Visualizing categorical feature distributions"
      ],
      "metadata": {
        "id": "ztenZ3O34ejC"
      }
    },
    {
      "cell_type": "code",
      "source": [
        "# Visualizing categorical feature distributions\n",
        "\n",
        "categorical_columns = [\"Room Type\", \"Property Type Reduced\", \"Neighbourhood Grouped\", \"Is Superhost\"]\n",
        "\n",
        "plt.figure(figsize=(12, 10))\n",
        "for i, col in enumerate(categorical_columns, 1):\n",
        "    plt.subplot(2, 2, i)\n",
        "    sns.countplot(y=df[col], order=df[col].value_counts().index, palette=\"viridis\")\n",
        "    plt.title(f\"Distribution of {col}\")\n",
        "    plt.xlabel(\"Count\")\n",
        "\n",
        "plt.tight_layout()\n",
        "plt.show()\n"
      ],
      "metadata": {
        "id": "srPllbrs4u9a"
      },
      "execution_count": null,
      "outputs": []
    },
    {
      "cell_type": "markdown",
      "source": [
        "# Outliers"
      ],
      "metadata": {
        "id": "ErK7ZC675mo6"
      }
    },
    {
      "cell_type": "code",
      "source": [
        "# Outlier detection using boxplots for key numerical features\n",
        "# Selecting key numerical columns for outlier detection\n",
        "numerical_columns = [\n",
        "    \"Price\", \"Reviews\", \"Overall Rating\", \"Bedrooms\", \"Bathrooms\", \"Beds\", \"Accomodates\"\n",
        "]\n",
        "\n",
        "plt.figure(figsize=(12, 10))\n",
        "for i, col in enumerate(numerical_columns, 1):\n",
        "    plt.subplot(4, 2, i)\n",
        "    sns.boxplot(x=df[col].dropna(), palette=\"coolwarm\")\n",
        "    plt.title(f\"Boxplot of {col}\")\n",
        "\n",
        "plt.tight_layout()\n",
        "plt.show()\n"
      ],
      "metadata": {
        "id": "zMwl9LLR5vB_"
      },
      "execution_count": null,
      "outputs": []
    },
    {
      "cell_type": "markdown",
      "source": [
        "The boxplots reveal potential outliers in several numerical features, particularly:\n",
        "\n",
        "1. Price: Likely contains extreme values (high-end listings or pricing errors).\n",
        "2. Reviews: Some listings have significantly higher review counts than others.\n",
        "3. Bedrooms, Bathrooms, Beds, Accommodates: Some properties might have unrealistic values (e.g., too many or too few bedrooms relative to accommodations)."
      ],
      "metadata": {
        "id": "5R8O2bbo58OM"
      }
    },
    {
      "cell_type": "markdown",
      "source": [
        "### Outlier removal"
      ],
      "metadata": {
        "id": "zOsdttll6dJD"
      }
    },
    {
      "cell_type": "code",
      "source": [
        "# Implementing Outlier Removal using the IQR Method\n",
        "\n",
        "def remove_outliers(df, column):\n",
        "    \"\"\"Removes outliers based on IQR for a given column.\"\"\"\n",
        "    Q1 = df[column].quantile(0.25)\n",
        "    Q3 = df[column].quantile(0.75)\n",
        "    IQR = Q3 - Q1\n",
        "    lower_bound = Q1 - 1.5 * IQR\n",
        "    upper_bound = Q3 + 1.5 * IQR\n",
        "    return df[(df[column] >= lower_bound) & (df[column] <= upper_bound)]\n",
        "\n",
        "# Applying outlier removal to selected numerical columns\n",
        "cleaned_df = df.copy()\n",
        "for col in [\"Price\", \"Reviews\", \"Bedrooms\", \"Bathrooms\", \"Beds\", \"Accomodates\"]:\n",
        "    cleaned_df = remove_outliers(cleaned_df, col)\n",
        "\n",
        "# Displaying summary after outlier removal\n",
        "print(f\"Cleaned Dataset After Outlier Removal\\n {cleaned_df}\")"
      ],
      "metadata": {
        "id": "Itc1D5U_6kcV"
      },
      "execution_count": null,
      "outputs": []
    },
    {
      "cell_type": "markdown",
      "source": [
        "I have removed outliers from key numerical features (Price, Reviews, Bedrooms, Bathrooms, Beds, Accommodates) using the IQR method. The cleaned dataset is now available for further analysis."
      ],
      "metadata": {
        "id": "5dYUCflx63Vc"
      }
    },
    {
      "cell_type": "markdown",
      "source": [
        "# Feature Engineering"
      ],
      "metadata": {
        "id": "2kCDINMt5qpJ"
      }
    },
    {
      "cell_type": "markdown",
      "source": [
        "Feature Engineering Suggestions\n",
        "To enhance the dataset and improve model performance, consider:\n",
        "\n",
        "1. Handling Outliers\n",
        " - Use log transformation for skewed features like Price and Reviews to reduce the impact of extreme values.\n",
        " - Use IQR (Interquartile Range) method to remove or cap outliers in Price, Bedrooms, Bathrooms, etc.\n",
        "2. Creating New Features\n",
        " - Price Per Person: Price / Accommodates\n",
        " - Host Experience: Convert Host Since Year to Years of Hosting = Current Year - Host Since Year\n",
        " - Review Activity: Reviews / (Last Review Year - First Review Year + 1) to measure review frequency.\n",
        " - Availability Score: Based on the number of reviews and overall rating.\n",
        "3. Encoding Categorical Variables\n",
        " - Convert Room Type, Property Type, Neighbourhood Grouped into one-hot encoded or label encoded features for ML models.\n",
        " - Convert Is Superhost and Instant Bookable into binary (0/1) values."
      ],
      "metadata": {
        "id": "2TXWGLa46IIr"
      }
    },
    {
      "cell_type": "code",
      "source": [
        "from datetime import datetime\n",
        "\n",
        "# Making a copy of the cleaned dataset to work on feature creation\n",
        "df_features = cleaned_df.copy()\n",
        "\n",
        "# Feature 1: Price per Person\n",
        "df_features[\"Price Per Person\"] = df_features[\"Price\"] / df_features[\"Accomodates\"]\n",
        "\n",
        "# Feature 2: Years of Hosting\n",
        "current_year = datetime.now().year\n",
        "df_features[\"Years of Hosting\"] = current_year - df_features[\"Host Since Year\"]\n",
        "\n",
        "# Feature 3: Review Frequency (Reviews per Year since First Review)\n",
        "df_features[\"Review Frequency\"] = df_features[\"Reviews\"] / ((df_features[\"Last Review Year\"] - df_features[\"First Review Year\"]).replace(0, 1))\n",
        "\n",
        "# Feature 4: Availability Score (Normalized Reviews * Rating)\n",
        "df_features[\"Availability Score\"] = df_features[\"Reviews\"] * df_features[\"Overall Rating\"]\n",
        "\n",
        "# Feature 5: Encoding 'Is Superhost' into Binary (1 for 't', 0 for 'f')\n",
        "df_features[\"Is Superhost Binary\"] = df_features[\"Is Superhost\"].map({\"t\": 1, \"f\": 0})\n",
        "\n",
        "# Feature 6: Encoding 'Instant Bookable' into Binary\n",
        "df_features[\"Instant Bookable Binary\"] = df_features[\"Instant Bookable\"].astype(int)\n",
        "\n",
        "# Display the dataset with newly engineered features\n",
        "df_features\n"
      ],
      "metadata": {
        "id": "TeF8rR_o7EEA"
      },
      "execution_count": null,
      "outputs": []
    }
  ]
}