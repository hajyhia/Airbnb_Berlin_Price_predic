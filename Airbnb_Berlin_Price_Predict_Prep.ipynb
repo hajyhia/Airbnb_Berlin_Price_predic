{
 "nbformat": 4,
 "nbformat_minor": 0,
 "metadata": {
  "colab": {
   "provenance": [],
   "toc_visible": true
  },
  "kernelspec": {
   "name": "python3",
   "display_name": "Python 3"
  },
  "language_info": {
   "name": "python"
  }
 },
 "cells": [
  {
   "cell_type": "code",
   "source": [
    "# !pip install missingno\n",
    "# !pip install geopy"
   ],
   "metadata": {
    "id": "-L1XbnrJYgiZ"
   },
   "execution_count": 45,
   "outputs": []
  },
  {
   "cell_type": "code",
   "source": [
    "import seaborn as sns\n",
    "import matplotlib.pyplot as plt\n",
    "import pandas as pd\n",
    "import numpy as np\n",
    "import warnings\n",
    "\n",
    "# Ignore warnings\n",
    "warnings.filterwarnings('ignore')\n",
    "pd.set_option('display.max_columns', None)"
   ],
   "metadata": {
    "id": "FwFelltQfgFE"
   },
   "execution_count": 46,
   "outputs": []
  },
  {
   "cell_type": "code",
   "execution_count": 47,
   "metadata": {
    "id": "3Dj3TXKX8skK",
    "colab": {
     "base_uri": "https://localhost:8080/"
    },
    "outputId": "88771529-b770-4812-cd85-93419d6b8189"
   },
   "outputs": [],
   "source": [
    "from google.colab import drive\n",
    "drive.mount('/content/drive')"
   ]
  },
  {
   "cell_type": "code",
   "source": [
    "AirbnbBerlin_df = pd.read_csv('/content/drive/My Drive/Airbnb/Airbnb Berlin.csv', index_col=0)\n",
    "# AirbnbBerlin_df = pd.read_csv('./content/Airbnb Berlin.csv')\n",
    "# df_2019 = AirbnbBerlin_df[AirbnbBerlin_df['review_date'].astype(str).str[6:] == '19']\n",
    "\n",
    "# df_2019 = pd.read_csv('/content/drive/My Drive/Airbnb/AirbnbBerlin_2019.csv', index_col=0)\n",
    "# df_2019 = pd.read_csv('./content/AirbnbBerlin_2019.csv')"
   ],
   "metadata": {
    "id": "01IKm7fk9D4J"
   },
   "execution_count": 48,
   "outputs": []
  },
  {
   "cell_type": "code",
   "source": [
    "df = AirbnbBerlin_df.copy()"
   ],
   "metadata": {
    "id": "flbZz61qsKVa"
   },
   "execution_count": 49,
   "outputs": []
  },
  {
   "cell_type": "markdown",
   "source": [
    "# 1. Data Preparation"
   ],
   "metadata": {
    "id": "5h-lhY-_Fegj"
   }
  },
  {
   "cell_type": "code",
   "source": [
    "df.info()"
   ],
   "metadata": {
    "colab": {
     "base_uri": "https://localhost:8080/"
    },
    "id": "Rs57u7s6iP6X",
    "outputId": "538ac50c-7fd4-4589-bc9d-5ce4275751f6"
   },
   "execution_count": 50,
   "outputs": [
    {
     "name": "stdout",
     "output_type": "stream",
     "text": [
      "<class 'pandas.core.frame.DataFrame'>\n",
      "RangeIndex: 456961 entries, 0 to 456960\n",
      "Data columns (total 47 columns):\n",
      " #   Column                 Non-Null Count   Dtype  \n",
      "---  ------                 --------------   -----  \n",
      " 0   index                  456961 non-null  int64  \n",
      " 1   Review ID              452805 non-null  float64\n",
      " 2   review_date            452805 non-null  object \n",
      " 3   Reviewer ID            452805 non-null  float64\n",
      " 4   Reviewer Name          452805 non-null  object \n",
      " 5   Comments               452595 non-null  object \n",
      " 6   Listing ID             456961 non-null  int64  \n",
      " 7   Listing URL            456961 non-null  object \n",
      " 8   Listing Name           456756 non-null  object \n",
      " 9   Host ID                456961 non-null  int64  \n",
      " 10  Host URL               456961 non-null  object \n",
      " 11  Host Name              456913 non-null  object \n",
      " 12  Host Since             456913 non-null  object \n",
      " 13  Host Response Time     398194 non-null  object \n",
      " 14  Host Response Rate     398194 non-null  object \n",
      " 15  Is Superhost           456913 non-null  object \n",
      " 16  neighbourhood          456961 non-null  object \n",
      " 17  Neighborhood Group     456961 non-null  object \n",
      " 18  City                   456928 non-null  object \n",
      " 19  Postal Code            449258 non-null  object \n",
      " 20  Country Code           456961 non-null  object \n",
      " 21  Country                456961 non-null  object \n",
      " 22  Latitude               456961 non-null  float64\n",
      " 23  Longitude              456961 non-null  float64\n",
      " 24  Is Exact Location      456961 non-null  object \n",
      " 25  Property Type          456961 non-null  object \n",
      " 26  Room Type              456961 non-null  object \n",
      " 27  Accomodates            456961 non-null  int64  \n",
      " 28  Bathrooms              456018 non-null  float64\n",
      " 29  Bedrooms               456244 non-null  float64\n",
      " 30  Beds                   456871 non-null  float64\n",
      " 31  Square Feet            28675 non-null   float64\n",
      " 32  Price                  456961 non-null  object \n",
      " 33  Guests Included        456961 non-null  int64  \n",
      " 34  Min Nights             456961 non-null  int64  \n",
      " 35  Reviews                456961 non-null  int64  \n",
      " 36  First Review           452805 non-null  object \n",
      " 37  Last Review            452805 non-null  object \n",
      " 38  Overall Rating         452242 non-null  float64\n",
      " 39  Accuracy Rating        452209 non-null  float64\n",
      " 40  Cleanliness Rating     452211 non-null  float64\n",
      " 41  Checkin Rating         452188 non-null  float64\n",
      " 42  Communication Rating   452205 non-null  float64\n",
      " 43  Location Rating        452186 non-null  float64\n",
      " 44  Value Rating           452185 non-null  float64\n",
      " 45  Instant Bookable       456961 non-null  object \n",
      " 46  Business Travel Ready  456961 non-null  object \n",
      "dtypes: float64(15), int64(7), object(25)\n",
      "memory usage: 163.9+ MB\n"
     ]
    }
   ]
  },
  {
   "cell_type": "markdown",
   "source": [
    "### Aggregate dataset by Listing ID"
   ],
   "metadata": {
    "id": "3NE9P4nQvGUH"
   }
  },
  {
   "cell_type": "markdown",
   "source": [
    "Clean text From pancutations or undesired characters"
   ],
   "metadata": {
    "id": "_RqCuIfGiywG"
   }
  },
  {
   "cell_type": "code",
   "source": [
    "# 1. Clean Text: Perform text cleaning, remove currency symbols & commas\n",
    "df['Price'] = df['Price'].replace('[\\$,]', '', regex=True).astype(float)\n",
    "df['Host Response Rate'] = df['Host Response Rate'].replace('[\\%,]', '', regex=True).astype(float)\n",
    "\n",
    "# Fix Postal Code incorrect values, remove '\\n' and other irrelevant text\n",
    "df['Postal Code'] = df['Postal Code'].astype(str).str[:5]"
   ],
   "metadata": {
    "id": "bpR4HfrLit2Y"
   },
   "execution_count": 51,
   "outputs": []
  },
  {
   "cell_type": "markdown",
   "source": [
    "Adjust Prices for Inflation"
   ],
   "metadata": {
    "id": "3imgidE2ur0j"
   }
  },
  {
   "cell_type": "code",
   "source": [
    "# Example CPI data\n",
    "cpi_data = {\n",
    "    2009: 92.2,\n",
    "    2010: 93.2,\n",
    "    2011: 95.2,\n",
    "    2012: 97.1,\n",
    "    2013: 98.5,\n",
    "    2014: 99.4,\n",
    "    2015: 100.0,\n",
    "    2016: 100.5,\n",
    "    2017: 102.0,\n",
    "    2018: 103.8,\n",
    "    2019: 105.3\n",
    "}\n",
    "\n",
    "# Base year for adjustment\n",
    "base_year = 2019\n",
    "base_cpi = cpi_data[base_year]\n",
    "\n",
    "# Function to adjust price for inflation\n",
    "def adjust_for_inflation(row):\n",
    "    original_year = row['Review Date Year']\n",
    "    original_price = row['Price']\n",
    "    if original_year in cpi_data:\n",
    "        original_cpi = cpi_data[original_year]\n",
    "        adjusted_price = original_price * (base_cpi / original_cpi)\n",
    "        return round(adjusted_price)\n",
    "    else:\n",
    "        return round(original_price)  # If year not in CPI data, return original price\n",
    "\n",
    "df['review_date'] = pd.to_datetime(df['review_date'])\n",
    "df['Review Date Year'] = df['review_date'].dt.year\n",
    "\n",
    "# Apply the adjustment\n",
    "df['Adjusted Price'] = df.apply(adjust_for_inflation, axis=1)"
   ],
   "metadata": {
    "id": "OjnLXxXburUb"
   },
   "execution_count": 52,
   "outputs": []
  },
  {
   "cell_type": "markdown",
   "source": [
    "Aggregate the dataset by 'Listing ID'\n",
    "- For numerical columns, we'll compute the mean\n",
    "- For categorical columns, we'll take the first value (assuming consistency)"
   ],
   "metadata": {
    "id": "ZGSs0dk3v0RN"
   }
  },
  {
   "cell_type": "code",
   "source": [
    "# Aggregate the dataset by 'Listing ID'\n",
    "# For numerical columns, we'll compute the mean\n",
    "# For categorical columns, we'll take the first value (assuming consistency)\n",
    "categorical_cols = df.select_dtypes(include=['object']).columns\n",
    "numerical_cols = df.select_dtypes(include=['number']).columns.difference(['Listing ID'])\n",
    "aggregated_df = df.groupby('Listing ID').agg({**{col: 'mean' for col in numerical_cols},\n",
    "                                              **{col: 'first' for col in categorical_cols}})\n",
    "\n",
    "# aggregated_df = df.groupby('Listing ID').agg({**{col: 'mean' for col in numerical_cols},\n",
    "#                                               **{col: lambda x: x.mode().iloc[0] if not x.mode().empty else None for col in categorical_cols}})\n",
    "\n",
    "print(aggregated_df.shape)"
   ],
   "metadata": {
    "colab": {
     "base_uri": "https://localhost:8080/"
    },
    "id": "DP7lGeAhuI9c",
    "outputId": "9e160696-8124-402f-aa92-3b291024dd18"
   },
   "execution_count": 53,
   "outputs": [
    {
     "name": "stdout",
     "output_type": "stream",
     "text": [
      "(23536, 47)\n"
     ]
    }
   ]
  },
  {
   "cell_type": "markdown",
   "source": [
    "### Features Selection\n",
    "1. If a categorical column is not relevant to the analysis, we can remove it.\n",
    "2. Listing URL, Listing Name, Host URL, Host Name: These are mostly unique to each listing, so not useful for category reduction"
   ],
   "metadata": {
    "id": "xio9gJg0wE6H"
   }
  },
  {
   "cell_type": "code",
   "source": [
    "aggregated_df.info()"
   ],
   "metadata": {
    "colab": {
     "base_uri": "https://localhost:8080/"
    },
    "id": "fq7qAcdW5tRU",
    "outputId": "be2dff65-b70c-46cb-c66c-d66240c13740"
   },
   "execution_count": 54,
   "outputs": [
    {
     "name": "stdout",
     "output_type": "stream",
     "text": [
      "<class 'pandas.core.frame.DataFrame'>\n",
      "Index: 23536 entries, 2695 to 34682315\n",
      "Data columns (total 47 columns):\n",
      " #   Column                 Non-Null Count  Dtype  \n",
      "---  ------                 --------------  -----  \n",
      " 0   Accomodates            23536 non-null  float64\n",
      " 1   Accuracy Rating        18888 non-null  float64\n",
      " 2   Adjusted Price         23536 non-null  float64\n",
      " 3   Bathrooms              23507 non-null  float64\n",
      " 4   Bedrooms               23516 non-null  float64\n",
      " 5   Beds                   23501 non-null  float64\n",
      " 6   Checkin Rating         18870 non-null  float64\n",
      " 7   Cleanliness Rating     18892 non-null  float64\n",
      " 8   Communication Rating   18886 non-null  float64\n",
      " 9   Guests Included        23536 non-null  float64\n",
      " 10  Host ID                23536 non-null  float64\n",
      " 11  Host Response Rate     13046 non-null  float64\n",
      " 12  Latitude               23536 non-null  float64\n",
      " 13  Location Rating        18871 non-null  float64\n",
      " 14  Longitude              23536 non-null  float64\n",
      " 15  Min Nights             23536 non-null  float64\n",
      " 16  Overall Rating         18914 non-null  float64\n",
      " 17  Price                  23536 non-null  float64\n",
      " 18  Review Date Year       19380 non-null  float64\n",
      " 19  Review ID              19380 non-null  float64\n",
      " 20  Reviewer ID            19380 non-null  float64\n",
      " 21  Reviews                23536 non-null  float64\n",
      " 22  Square Feet            425 non-null    float64\n",
      " 23  Value Rating           18868 non-null  float64\n",
      " 24  index                  23536 non-null  float64\n",
      " 25  Reviewer Name          19380 non-null  object \n",
      " 26  Comments               19378 non-null  object \n",
      " 27  Listing URL            23536 non-null  object \n",
      " 28  Listing Name           23482 non-null  object \n",
      " 29  Host URL               23536 non-null  object \n",
      " 30  Host Name              23515 non-null  object \n",
      " 31  Host Since             23515 non-null  object \n",
      " 32  Host Response Time     13046 non-null  object \n",
      " 33  Is Superhost           23515 non-null  object \n",
      " 34  neighbourhood          23536 non-null  object \n",
      " 35  Neighborhood Group     23536 non-null  object \n",
      " 36  City                   23533 non-null  object \n",
      " 37  Postal Code            23536 non-null  object \n",
      " 38  Country Code           23536 non-null  object \n",
      " 39  Country                23536 non-null  object \n",
      " 40  Is Exact Location      23536 non-null  object \n",
      " 41  Property Type          23536 non-null  object \n",
      " 42  Room Type              23536 non-null  object \n",
      " 43  First Review           19380 non-null  object \n",
      " 44  Last Review            19380 non-null  object \n",
      " 45  Instant Bookable       23536 non-null  object \n",
      " 46  Business Travel Ready  23536 non-null  object \n",
      "dtypes: float64(25), object(22)\n",
      "memory usage: 8.6+ MB\n"
     ]
    }
   ]
  },
  {
   "cell_type": "code",
   "source": [
    "# drop the columns that is not helpful for prediction\n",
    "df = aggregated_df.copy()\n",
    "df = df.drop(columns=['Review ID', 'Reviewer ID', 'Reviewer Name', 'Listing URL','Listing Name',\n",
    "                      'Host ID', 'Host URL', 'Host Name', 'City', 'Country Code', 'Country',\n",
    "                      'First Review', 'Last Review', 'Square Feet', 'Business Travel Ready'])"
   ],
   "metadata": {
    "id": "tTbc3ky_wKnf"
   },
   "execution_count": 55,
   "outputs": []
  },
  {
   "cell_type": "markdown",
   "source": [
    "### Reduce Large Categories"
   ],
   "metadata": {
    "collapsed": false,
    "id": "-XSXiYA7oYIv"
   }
  },
  {
   "cell_type": "markdown",
   "source": [
    "1. Group Rare Categories: If a categorical column has many unique values, we can group infrequent categories into an \"Other\" category like 'Reviewer Name'.\n",
    "2. Merge Similar Categories: If there are similar categories (e.g., different spellings or formats of the same category), we can merge them.\n",
    "3. Binning: For numerical categories (like \"Overall Rating\" or \"Accommodates\"), we can create bins to reduce the number of unique values."
   ],
   "metadata": {
    "id": "-a-w8NDEkCyd"
   }
  },
  {
   "cell_type": "code",
   "source": [
    "# 2. Grouping neighbourhoods into Neighborhood Groups\n",
    "if 'Neighborhood Group' in df.columns:\n",
    "  neighbourhood_mapping = df.groupby('neighbourhood')['Neighborhood Group'].first()\n",
    "  df['Neighbourhood Grouped'] = df['neighbourhood'].map(neighbourhood_mapping)\n",
    "\n",
    "# 3. Reducing Property Types\n",
    "property_mapping = {\n",
    "    \"Villa\": \"Vacation Rental\",\n",
    "    \"Cottage\": \"Vacation Rental\",\n",
    "    \"Bungalow\": \"Vacation Rental\",\n",
    "    \"Cabin\": \"Vacation Rental\",\n",
    "    \"Tiny house\": \"Vacation Rental\",\n",
    "    \"Earth house\": \"Vacation Rental\",\n",
    "    \"Treehouse\": \"Vacation Rental\",\n",
    "    \"Hut\": \"Vacation Rental\",\n",
    "    \"Barn\": \"Vacation Rental\",\n",
    "    \"Houseboat\": \"Boats & Houseboats\",\n",
    "    \"Boat\": \"Boats & Houseboats\",\n",
    "    \"Camper/RV\": \"Mobile/Alternative Lodging\",\n",
    "    \"Cave\": \"Mobile/Alternative Lodging\",\n",
    "    \"Pension (South Korea)\": \"Mobile/Alternative Lodging\",\n",
    "    \"Casa particular (Cuba)\": \"Mobile/Alternative Lodging\",\n",
    "}\n",
    "\n",
    "# Apply mapping and assign 'Other' to rare categories\n",
    "top_property_types = [\n",
    "    \"Apartment\", \"Loft\", \"House\", \"Townhouse\", \"Condominium\", \"Serviced apartment\",\n",
    "    \"Hotel\", \"Hostel\", \"Guesthouse\", \"Bed and breakfast\", \"Boutique hotel\"\n",
    "]\n",
    "\n",
    "df['Property Type Reduced'] = df['Property Type'].apply(\n",
    "    lambda x: property_mapping.get(x, x) if x in top_property_types or x in property_mapping else \"Other\"\n",
    ")\n",
    "\n",
    "# 4. Binning Postal Codes (first two digits represent broad area)\n",
    "df['Postal Code Reduced'] = df['Postal Code'].astype(str).str[:2]  # Use only first 2 digits"
   ],
   "metadata": {
    "id": "CJ3Ge4wdgv7Q"
   },
   "execution_count": 56,
   "outputs": []
  },
  {
   "cell_type": "markdown",
   "source": [
    "### Transform/Manipulate data"
   ],
   "metadata": {
    "id": "Pk0aBQDak5Ya"
   }
  },
  {
   "cell_type": "code",
   "source": [
    "# Extracting years from date columns\n",
    "df['Host Since'] = pd.to_datetime(df['Host Since'])\n",
    "df['Host Since Year'] = df['Host Since'].dt.year\n",
    "\n",
    "# 5. transform true/false into bool\n",
    "df['Instant Bookable'] = df['Instant Bookable'].replace({'t': True, 'f': False})\n",
    "df['Is Superhost'] = df['Is Superhost'].replace({'t': True, 'f': False})\n",
    "df['Is Exact Location'] = df['Is Exact Location'].replace({'t': True, 'f': False})\n",
    "df['Instant Bookable'] = df['Instant Bookable'].replace({'t': True, 'f': False})"
   ],
   "metadata": {
    "id": "gzC56djpk_jq"
   },
   "execution_count": 57,
   "outputs": []
  },
  {
   "cell_type": "code",
   "source": [
    "df.info()"
   ],
   "metadata": {
    "colab": {
     "base_uri": "https://localhost:8080/"
    },
    "id": "oKjbuv9l6m7j",
    "outputId": "3bd6a633-1c06-4af5-a71a-3fcd5f04ab97"
   },
   "execution_count": 58,
   "outputs": [
    {
     "name": "stdout",
     "output_type": "stream",
     "text": [
      "<class 'pandas.core.frame.DataFrame'>\n",
      "Index: 23536 entries, 2695 to 34682315\n",
      "Data columns (total 36 columns):\n",
      " #   Column                 Non-Null Count  Dtype         \n",
      "---  ------                 --------------  -----         \n",
      " 0   Accomodates            23536 non-null  float64       \n",
      " 1   Accuracy Rating        18888 non-null  float64       \n",
      " 2   Adjusted Price         23536 non-null  float64       \n",
      " 3   Bathrooms              23507 non-null  float64       \n",
      " 4   Bedrooms               23516 non-null  float64       \n",
      " 5   Beds                   23501 non-null  float64       \n",
      " 6   Checkin Rating         18870 non-null  float64       \n",
      " 7   Cleanliness Rating     18892 non-null  float64       \n",
      " 8   Communication Rating   18886 non-null  float64       \n",
      " 9   Guests Included        23536 non-null  float64       \n",
      " 10  Host Response Rate     13046 non-null  float64       \n",
      " 11  Latitude               23536 non-null  float64       \n",
      " 12  Location Rating        18871 non-null  float64       \n",
      " 13  Longitude              23536 non-null  float64       \n",
      " 14  Min Nights             23536 non-null  float64       \n",
      " 15  Overall Rating         18914 non-null  float64       \n",
      " 16  Price                  23536 non-null  float64       \n",
      " 17  Review Date Year       19380 non-null  float64       \n",
      " 18  Reviews                23536 non-null  float64       \n",
      " 19  Value Rating           18868 non-null  float64       \n",
      " 20  index                  23536 non-null  float64       \n",
      " 21  Comments               19378 non-null  object        \n",
      " 22  Host Since             23515 non-null  datetime64[ns]\n",
      " 23  Host Response Time     13046 non-null  object        \n",
      " 24  Is Superhost           23515 non-null  object        \n",
      " 25  neighbourhood          23536 non-null  object        \n",
      " 26  Neighborhood Group     23536 non-null  object        \n",
      " 27  Postal Code            23536 non-null  object        \n",
      " 28  Is Exact Location      23536 non-null  bool          \n",
      " 29  Property Type          23536 non-null  object        \n",
      " 30  Room Type              23536 non-null  object        \n",
      " 31  Instant Bookable       23536 non-null  bool          \n",
      " 32  Neighbourhood Grouped  23536 non-null  object        \n",
      " 33  Property Type Reduced  23536 non-null  object        \n",
      " 34  Postal Code Reduced    23536 non-null  object        \n",
      " 35  Host Since Year        23515 non-null  float64       \n",
      "dtypes: bool(2), datetime64[ns](1), float64(22), object(11)\n",
      "memory usage: 6.3+ MB\n"
     ]
    }
   ]
  },
  {
   "cell_type": "code",
   "source": [
    "df.head(2)"
   ],
   "metadata": {
    "colab": {
     "base_uri": "https://localhost:8080/",
     "height": 319
    },
    "id": "l243bevTnszF",
    "outputId": "67ed71e5-0714-4fe0-ca1f-55b15685d137"
   },
   "execution_count": 59,
   "outputs": [
    {
     "data": {
      "text/plain": "            Accomodates  Accuracy Rating  Adjusted Price  Bathrooms  Bedrooms  \\\nListing ID                                                                      \n2695                2.0             10.0       17.000000        1.0       1.0   \n3176                4.0              9.0       96.097222        1.0       1.0   \n\n            Beds  Checkin Rating  Cleanliness Rating  Communication Rating  \\\nListing ID                                                                   \n2695         1.0            10.0                10.0                  10.0   \n3176         2.0             9.0                 9.0                   9.0   \n\n            Guests Included  Host Response Rate  Latitude  Location Rating  \\\nListing ID                                                                   \n2695                    1.0                50.0  52.54851              9.0   \n3176                    2.0                50.0  52.53500             10.0   \n\n            Longitude  Min Nights  Overall Rating  Price  Review Date Year  \\\nListing ID                                                                   \n2695         13.40455         2.0           100.0   17.0       2018.142857   \n3176         13.41758        62.0            92.0   90.0       2013.805556   \n\n            Reviews  Value Rating     index  \\\nListing ID                                    \n2695            7.0          10.0  271261.0   \n3176          144.0           9.0  306635.5   \n\n                                                     Comments Host Since  \\\nListing ID                                                                 \n2695        I really enjoyed staying at Micha and Nadja's ... 2008-09-16   \n3176        excellent stay, i would highly recommend it. a... 2008-10-19   \n\n           Host Response Time Is Superhost    neighbourhood  \\\nListing ID                                                    \n2695             within a day        False  Prenzlauer Berg   \n3176             within a day        False  Prenzlauer Berg   \n\n           Neighborhood Group Postal Code  Is Exact Location Property Type  \\\nListing ID                                                                   \n2695                   Pankow       10437               True     Apartment   \n3176                   Pankow       10405               True     Apartment   \n\n                  Room Type  Instant Bookable Neighbourhood Grouped  \\\nListing ID                                                            \n2695           Private room             False                Pankow   \n3176        Entire home/apt             False                Pankow   \n\n           Property Type Reduced Postal Code Reduced  Host Since Year  \nListing ID                                                             \n2695                   Apartment                  10           2008.0  \n3176                   Apartment                  10           2008.0  ",
      "text/html": "<div>\n<style scoped>\n    .dataframe tbody tr th:only-of-type {\n        vertical-align: middle;\n    }\n\n    .dataframe tbody tr th {\n        vertical-align: top;\n    }\n\n    .dataframe thead th {\n        text-align: right;\n    }\n</style>\n<table border=\"1\" class=\"dataframe\">\n  <thead>\n    <tr style=\"text-align: right;\">\n      <th></th>\n      <th>Accomodates</th>\n      <th>Accuracy Rating</th>\n      <th>Adjusted Price</th>\n      <th>Bathrooms</th>\n      <th>Bedrooms</th>\n      <th>Beds</th>\n      <th>Checkin Rating</th>\n      <th>Cleanliness Rating</th>\n      <th>Communication Rating</th>\n      <th>Guests Included</th>\n      <th>Host Response Rate</th>\n      <th>Latitude</th>\n      <th>Location Rating</th>\n      <th>Longitude</th>\n      <th>Min Nights</th>\n      <th>Overall Rating</th>\n      <th>Price</th>\n      <th>Review Date Year</th>\n      <th>Reviews</th>\n      <th>Value Rating</th>\n      <th>index</th>\n      <th>Comments</th>\n      <th>Host Since</th>\n      <th>Host Response Time</th>\n      <th>Is Superhost</th>\n      <th>neighbourhood</th>\n      <th>Neighborhood Group</th>\n      <th>Postal Code</th>\n      <th>Is Exact Location</th>\n      <th>Property Type</th>\n      <th>Room Type</th>\n      <th>Instant Bookable</th>\n      <th>Neighbourhood Grouped</th>\n      <th>Property Type Reduced</th>\n      <th>Postal Code Reduced</th>\n      <th>Host Since Year</th>\n    </tr>\n    <tr>\n      <th>Listing ID</th>\n      <th></th>\n      <th></th>\n      <th></th>\n      <th></th>\n      <th></th>\n      <th></th>\n      <th></th>\n      <th></th>\n      <th></th>\n      <th></th>\n      <th></th>\n      <th></th>\n      <th></th>\n      <th></th>\n      <th></th>\n      <th></th>\n      <th></th>\n      <th></th>\n      <th></th>\n      <th></th>\n      <th></th>\n      <th></th>\n      <th></th>\n      <th></th>\n      <th></th>\n      <th></th>\n      <th></th>\n      <th></th>\n      <th></th>\n      <th></th>\n      <th></th>\n      <th></th>\n      <th></th>\n      <th></th>\n      <th></th>\n      <th></th>\n    </tr>\n  </thead>\n  <tbody>\n    <tr>\n      <th>2695</th>\n      <td>2.0</td>\n      <td>10.0</td>\n      <td>17.000000</td>\n      <td>1.0</td>\n      <td>1.0</td>\n      <td>1.0</td>\n      <td>10.0</td>\n      <td>10.0</td>\n      <td>10.0</td>\n      <td>1.0</td>\n      <td>50.0</td>\n      <td>52.54851</td>\n      <td>9.0</td>\n      <td>13.40455</td>\n      <td>2.0</td>\n      <td>100.0</td>\n      <td>17.0</td>\n      <td>2018.142857</td>\n      <td>7.0</td>\n      <td>10.0</td>\n      <td>271261.0</td>\n      <td>I really enjoyed staying at Micha and Nadja's ...</td>\n      <td>2008-09-16</td>\n      <td>within a day</td>\n      <td>False</td>\n      <td>Prenzlauer Berg</td>\n      <td>Pankow</td>\n      <td>10437</td>\n      <td>True</td>\n      <td>Apartment</td>\n      <td>Private room</td>\n      <td>False</td>\n      <td>Pankow</td>\n      <td>Apartment</td>\n      <td>10</td>\n      <td>2008.0</td>\n    </tr>\n    <tr>\n      <th>3176</th>\n      <td>4.0</td>\n      <td>9.0</td>\n      <td>96.097222</td>\n      <td>1.0</td>\n      <td>1.0</td>\n      <td>2.0</td>\n      <td>9.0</td>\n      <td>9.0</td>\n      <td>9.0</td>\n      <td>2.0</td>\n      <td>50.0</td>\n      <td>52.53500</td>\n      <td>10.0</td>\n      <td>13.41758</td>\n      <td>62.0</td>\n      <td>92.0</td>\n      <td>90.0</td>\n      <td>2013.805556</td>\n      <td>144.0</td>\n      <td>9.0</td>\n      <td>306635.5</td>\n      <td>excellent stay, i would highly recommend it. a...</td>\n      <td>2008-10-19</td>\n      <td>within a day</td>\n      <td>False</td>\n      <td>Prenzlauer Berg</td>\n      <td>Pankow</td>\n      <td>10405</td>\n      <td>True</td>\n      <td>Apartment</td>\n      <td>Entire home/apt</td>\n      <td>False</td>\n      <td>Pankow</td>\n      <td>Apartment</td>\n      <td>10</td>\n      <td>2008.0</td>\n    </tr>\n  </tbody>\n</table>\n</div>"
     },
     "execution_count": 59,
     "metadata": {},
     "output_type": "execute_result"
    }
   ]
  },
  {
   "cell_type": "markdown",
   "source": [
    "### EDA (Exploratory Data Analysis)"
   ],
   "metadata": {
    "id": "iX6najvG_y-e"
   }
  },
  {
   "cell_type": "code",
   "source": [
    "df_EDA = df.drop(columns=['Host Since', 'neighbourhood', 'Property Type', 'Postal Code'])\n",
    "# 'Comments','Instant Bookable', 'Is Superhost', 'Is Exact Location'\n",
    "# df_EDA.to_csv('./content/df_EDA.csv')\n",
    "df_EDA.to_csv('/content/drive/My Drive/Airbnb/df_EDA.csv')"
   ],
   "metadata": {
    "id": "wRsyJD-6qSXH"
   },
   "execution_count": 62,
   "outputs": []
  },
  {
   "cell_type": "markdown",
   "source": [
    "Store EDA deady dataset as pkl file"
   ],
   "metadata": {
    "id": "qVbj0wfL_puN"
   }
  },
  {
   "cell_type": "code",
   "source": [
    "# import pickle\n",
    "# with open('./content/df_EDA.pkl', 'wb') as f:\n",
    "#   pickle.dump(df_EDA, f)"
   ],
   "metadata": {
    "id": "LeNQjccL_def"
   },
   "execution_count": 63,
   "outputs": []
  },
  {
   "cell_type": "code",
   "execution_count": null,
   "outputs": [],
   "source": [
    "import pickle\n",
    "with open('/content/drive/My Drive/Airbnb/df_EDA.pkl', 'wb') as f:\n",
    "    pickle.dump(df_EDA, f)"
   ],
   "metadata": {
    "collapsed": false
   }
  }
 ]
}
