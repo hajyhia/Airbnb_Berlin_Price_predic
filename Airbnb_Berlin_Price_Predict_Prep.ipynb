{
 "nbformat": 4,
 "nbformat_minor": 0,
 "metadata": {
  "colab": {
   "provenance": [],
   "toc_visible": true
  },
  "kernelspec": {
   "name": "python3",
   "display_name": "Python 3"
  },
  "language_info": {
   "name": "python"
  }
 },
 "cells": [
  {
   "cell_type": "code",
   "source": [
    "# !pip install missingno\n",
    "# !pip install geopy"
   ],
   "metadata": {
    "id": "-L1XbnrJYgiZ"
   },
   "execution_count": null,
   "outputs": []
  },
  {
   "cell_type": "code",
   "source": [
    "import seaborn as sns\n",
    "import matplotlib.pyplot as plt\n",
    "import pandas as pd\n",
    "import numpy as np\n",
    "import warnings\n",
    "\n",
    "# Ignore warnings\n",
    "warnings.filterwarnings('ignore')\n",
    "\n",
    "pd.set_option('display.max_columns', None)\n",
    "# pd.set_option('display.max_rows', 500)\n",
    "## sample"
   ],
   "metadata": {
    "id": "FwFelltQfgFE"
   },
   "execution_count": null,
   "outputs": []
  },
  {
   "cell_type": "code",
   "execution_count": null,
   "metadata": {
    "id": "3Dj3TXKX8skK"
   },
   "outputs": [],
   "source": [
    "# from google.colab import drive\n",
    "# drive.mount('/content/drive')"
   ]
  },
  {
   "cell_type": "code",
   "source": [
    "# AirbnbBerlin_df = pd.read_csv('/content/drive/My Drive/Airbnb/Airbnb Berlin.csv', index_col=0)\n",
    "# AirbnbBerlin_df = pd.read_csv('/content/Airbnb Berlin.csv')\n",
    "# df_2019 = AirbnbBerlin_df[AirbnbBerlin_df['review_date'].astype(str).str[6:] == '19']\n",
    "\n",
    "# df_2019 = pd.read_csv('/content/drive/My Drive/Airbnb/AirbnbBerlin_2019.csv', index_col=0)\n",
    "df_2019 = pd.read_csv('./content/AirbnbBerlin_2019.csv')"
   ],
   "metadata": {
    "id": "01IKm7fk9D4J"
   },
   "execution_count": null,
   "outputs": []
  },
  {
   "cell_type": "markdown",
   "source": [
    "# 1. Data Preparation"
   ],
   "metadata": {
    "id": "5h-lhY-_Fegj"
   }
  },
  {
   "cell_type": "markdown",
   "source": [
    "### Features Selection\n",
    "1. If a categorical column is not relevant to the analysis, we can remove it.\n",
    "2. Listing URL, Listing Name, Host URL, Host Name: These are mostly unique to each listing, so not useful for category reduction"
   ],
   "metadata": {
    "id": "bTNdKMsImKlV"
   }
  },
  {
   "cell_type": "code",
   "source": [
    "# drop the columns that is not helpful for prediction\n",
    "df = df_2019.drop(columns=['Review ID', 'Reviewer ID', 'Reviewer Name', 'Listing URL','Listing Name',\n",
    "                           'Host ID', 'Host URL', 'Host Name',\n",
    "                           'City', 'Country Code', 'Country',\n",
    "                           'First Review', 'Last Review', 'Square Feet', 'Business Travel Ready',\n",
    "                           ])"
   ],
   "metadata": {
    "id": "vToRWoGYuptF"
   },
   "execution_count": null,
   "outputs": []
  },
  {
   "cell_type": "code",
   "source": [
    "print(df.info())"
   ],
   "metadata": {
    "colab": {
     "base_uri": "https://localhost:8080/"
    },
    "id": "kFtmeGFqo3iE",
    "outputId": "4f545af7-d5c1-4852-ddd8-c7ee3b201e20"
   },
   "execution_count": null,
   "outputs": [
    {
     "name": "stdout",
     "output_type": "stream",
     "text": [
      "<class 'pandas.core.frame.DataFrame'>\n",
      "RangeIndex: 66833 entries, 0 to 66832\n",
      "Data columns (total 32 columns):\n",
      " #   Column                Non-Null Count  Dtype  \n",
      "---  ------                --------------  -----  \n",
      " 0   index                 66833 non-null  int64  \n",
      " 1   review_date           66833 non-null  object \n",
      " 2   Comments              66782 non-null  object \n",
      " 3   Listing ID            66833 non-null  int64  \n",
      " 4   Host Since            66833 non-null  object \n",
      " 5   Host Response Time    65868 non-null  object \n",
      " 6   Host Response Rate    65868 non-null  object \n",
      " 7   Is Superhost          66833 non-null  object \n",
      " 8   neighbourhood         66833 non-null  object \n",
      " 9   Neighborhood Group    66833 non-null  object \n",
      " 10  Postal Code           65737 non-null  object \n",
      " 11  Latitude              66833 non-null  float64\n",
      " 12  Longitude             66833 non-null  float64\n",
      " 13  Is Exact Location     66833 non-null  object \n",
      " 14  Property Type         66833 non-null  object \n",
      " 15  Room Type             66833 non-null  object \n",
      " 16  Accomodates           66833 non-null  int64  \n",
      " 17  Bathrooms             66791 non-null  float64\n",
      " 18  Bedrooms              66763 non-null  float64\n",
      " 19  Beds                  66829 non-null  float64\n",
      " 20  Price                 66833 non-null  object \n",
      " 21  Guests Included       66833 non-null  int64  \n",
      " 22  Min Nights            66833 non-null  int64  \n",
      " 23  Reviews               66833 non-null  int64  \n",
      " 24  Overall Rating        66719 non-null  float64\n",
      " 25  Accuracy Rating       66719 non-null  float64\n",
      " 26  Cleanliness Rating    66719 non-null  float64\n",
      " 27  Checkin Rating        66719 non-null  float64\n",
      " 28  Communication Rating  66719 non-null  float64\n",
      " 29  Location Rating       66719 non-null  float64\n",
      " 30  Value Rating          66719 non-null  float64\n",
      " 31  Instant Bookable      66833 non-null  object \n",
      "dtypes: float64(12), int64(6), object(14)\n",
      "memory usage: 16.3+ MB\n",
      "None\n"
     ]
    }
   ]
  },
  {
   "cell_type": "markdown",
   "source": [
    "### Clean Text"
   ],
   "metadata": {
    "id": "_RqCuIfGiywG"
   }
  },
  {
   "cell_type": "code",
   "source": [
    "# 1. Clean Text: Perform text cleaning, remove currency symbols & commas\n",
    "df['Price'] = df['Price'].replace('[\\$,]', '', regex=True).astype(float)\n",
    "df['Host Response Rate'] = df['Host Response Rate'].replace('[\\%,]', '', regex=True).astype(float)\n",
    "\n",
    "# Fix Postal Code incorrect values, remove '\\n' and other irrelevant text\n",
    "df['Postal Code'] = df['Postal Code'].astype(str).str[:5]"
   ],
   "metadata": {
    "id": "bpR4HfrLit2Y"
   },
   "execution_count": null,
   "outputs": []
  },
  {
   "cell_type": "markdown",
   "source": [
    "### Reduce Large Categories"
   ],
   "metadata": {
    "collapsed": false,
    "id": "-XSXiYA7oYIv"
   }
  },
  {
   "cell_type": "markdown",
   "source": [
    "1. Group Rare Categories: If a categorical column has many unique values, we can group infrequent categories into an \"Other\" category like 'Reviewer Name'.\n",
    "2. Merge Similar Categories: If there are similar categories (e.g., different spellings or formats of the same category), we can merge them.\n",
    "3. Binning: For numerical categories (like \"Overall Rating\" or \"Accommodates\"), we can create bins to reduce the number of unique values."
   ],
   "metadata": {
    "id": "-a-w8NDEkCyd"
   }
  },
  {
   "cell_type": "code",
   "source": [
    "# Define bins and labels for 'Host Response Rate'\n",
    "bins = [0, 50, 80, 95, 100]\n",
    "labels = [\"Low Response\", \"Moderate Response\", \"High Response\", \"Very High Response\"]\n",
    "\n",
    "# Apply pd.cut() to create a new binned column\n",
    "df[\"Host Response Rate Reduced\"] = pd.cut(df[\"Host Response Rate\"], bins=bins, labels=labels, include_lowest=True)\n",
    "\n",
    "#  Reduce Categories\n",
    "df['Overall Rating Reduced'] = df['Overall Rating'].apply(lambda x: np.ceil(x/10))\n",
    "\n",
    "# 2. Grouping neighbourhoods into Neighborhood Groups\n",
    "if 'Neighborhood Group' in df.columns:\n",
    "  neighbourhood_mapping = df.groupby('neighbourhood')['Neighborhood Group'].first()\n",
    "  df['Neighbourhood Grouped'] = df['neighbourhood'].map(neighbourhood_mapping)\n",
    "\n",
    "# 3. Reducing Property Types\n",
    "property_mapping = {\n",
    "    \"Villa\": \"Vacation Rental\",\n",
    "    \"Cottage\": \"Vacation Rental\",\n",
    "    \"Bungalow\": \"Vacation Rental\",\n",
    "    \"Cabin\": \"Vacation Rental\",\n",
    "    \"Tiny house\": \"Vacation Rental\",\n",
    "    \"Earth house\": \"Vacation Rental\",\n",
    "    \"Treehouse\": \"Vacation Rental\",\n",
    "    \"Hut\": \"Vacation Rental\",\n",
    "    \"Barn\": \"Vacation Rental\",\n",
    "    \"Houseboat\": \"Boats & Houseboats\",\n",
    "    \"Boat\": \"Boats & Houseboats\",\n",
    "    \"Camper/RV\": \"Mobile/Alternative Lodging\",\n",
    "    \"Cave\": \"Mobile/Alternative Lodging\",\n",
    "    \"Pension (South Korea)\": \"Mobile/Alternative Lodging\",\n",
    "    \"Casa particular (Cuba)\": \"Mobile/Alternative Lodging\",\n",
    "}\n",
    "\n",
    "# Apply mapping and assign 'Other' to rare categories\n",
    "top_property_types = [\n",
    "    \"Apartment\", \"Loft\", \"House\", \"Townhouse\", \"Condominium\", \"Serviced apartment\",\n",
    "    \"Hotel\", \"Hostel\", \"Guesthouse\", \"Bed and breakfast\", \"Boutique hotel\"\n",
    "]\n",
    "\n",
    "df['Property Type Reduced'] = df['Property Type'].apply(\n",
    "    lambda x: property_mapping.get(x, x) if x in top_property_types or x in property_mapping else \"Other\"\n",
    ")\n",
    "\n",
    "# 4. Binning Postal Codes (first two digits represent broad area)\n",
    "df['Postal Code Reduced'] = df['Postal Code'].astype(str).str[:2]  # Use only first 2 digits\n"
   ],
   "metadata": {
    "id": "CJ3Ge4wdgv7Q"
   },
   "execution_count": null,
   "outputs": []
  },
  {
   "cell_type": "markdown",
   "source": [
    "### Transform/Manipulate data"
   ],
   "metadata": {
    "id": "Pk0aBQDak5Ya"
   }
  },
  {
   "cell_type": "code",
   "source": [
    "# Extracting years from date columns\n",
    "df['Host Since'] = pd.to_datetime(df['Host Since'])\n",
    "df['Host Since Year'] = df['Host Since'].dt.year\n",
    "\n",
    "df['review_date'] = pd.to_datetime(df['review_date'])\n",
    "df['Review Date Year'] = df['review_date'].dt.year\n",
    "\n",
    "# 5. transform true/false into bool\n",
    "df['Instant Bookable'] = df['Instant Bookable'].replace({'t': True, 'f': False})\n",
    "df['Is Superhost'] = df['Is Superhost'].replace({'t': True, 'f': False})\n",
    "df['Is Exact Location'] = df['Is Exact Location'].replace({'t': True, 'f': False})\n",
    "df['Instant Bookable'] = df['Instant Bookable'].replace({'t': True, 'f': False})"
   ],
   "metadata": {
    "id": "gzC56djpk_jq"
   },
   "execution_count": null,
   "outputs": []
  },
  {
   "cell_type": "code",
   "source": [
    "df.head(2)"
   ],
   "metadata": {
    "colab": {
     "base_uri": "https://localhost:8080/",
     "height": 354
    },
    "id": "l243bevTnszF",
    "outputId": "f2752c13-12cc-4f33-ffa6-ad530b8929c7"
   },
   "execution_count": null,
   "outputs": [
    {
     "data": {
      "text/plain": "   index review_date                                           Comments  \\\n0      0  2019-01-03                    All is awesome in this house ;)   \n1      1  2019-03-09  Good location, train station down the block wi...   \n\n   Listing ID Host Since  Host Response Time  Host Response Rate  \\\n0    10029891 2014-10-20  within a few hours               100.0   \n1    10029891 2014-10-20  within a few hours               100.0   \n\n   Is Superhost neighbourhood        Neighborhood Group Postal Code  Latitude  \\\n0         False     Kreuzberg  Friedrichshain-Kreuzberg       10967  52.49147   \n1         False     Kreuzberg  Friedrichshain-Kreuzberg       10967  52.49147   \n\n   Longitude  Is Exact Location Property Type        Room Type  Accomodates  \\\n0   13.40926              False     Apartment  Entire home/apt            4   \n1   13.40926              False     Apartment  Entire home/apt            4   \n\n   Bathrooms  Bedrooms  Beds  Price  Guests Included  Min Nights  Reviews  \\\n0        1.0       2.0   3.0   50.0                2           3        7   \n1        1.0       2.0   3.0   50.0                2           3        7   \n\n   Overall Rating  Accuracy Rating  Cleanliness Rating  Checkin Rating  \\\n0            97.0             10.0                 9.0             9.0   \n1            97.0             10.0                 9.0             9.0   \n\n   Communication Rating  Location Rating  Value Rating  Instant Bookable  \\\n0                  10.0             10.0           9.0             False   \n1                  10.0             10.0           9.0             False   \n\n  Host Response Rate Reduced  Overall Rating Reduced  \\\n0         Very High Response                    10.0   \n1         Very High Response                    10.0   \n\n      Neighbourhood Grouped Property Type Reduced Postal Code Reduced  \\\n0  Friedrichshain-Kreuzberg             Apartment                  10   \n1  Friedrichshain-Kreuzberg             Apartment                  10   \n\n   Host Since Year  Review Date Year  \n0             2014              2019  \n1             2014              2019  ",
      "text/html": "<div>\n<style scoped>\n    .dataframe tbody tr th:only-of-type {\n        vertical-align: middle;\n    }\n\n    .dataframe tbody tr th {\n        vertical-align: top;\n    }\n\n    .dataframe thead th {\n        text-align: right;\n    }\n</style>\n<table border=\"1\" class=\"dataframe\">\n  <thead>\n    <tr style=\"text-align: right;\">\n      <th></th>\n      <th>index</th>\n      <th>review_date</th>\n      <th>Comments</th>\n      <th>Listing ID</th>\n      <th>Host Since</th>\n      <th>Host Response Time</th>\n      <th>Host Response Rate</th>\n      <th>Is Superhost</th>\n      <th>neighbourhood</th>\n      <th>Neighborhood Group</th>\n      <th>Postal Code</th>\n      <th>Latitude</th>\n      <th>Longitude</th>\n      <th>Is Exact Location</th>\n      <th>Property Type</th>\n      <th>Room Type</th>\n      <th>Accomodates</th>\n      <th>Bathrooms</th>\n      <th>Bedrooms</th>\n      <th>Beds</th>\n      <th>Price</th>\n      <th>Guests Included</th>\n      <th>Min Nights</th>\n      <th>Reviews</th>\n      <th>Overall Rating</th>\n      <th>Accuracy Rating</th>\n      <th>Cleanliness Rating</th>\n      <th>Checkin Rating</th>\n      <th>Communication Rating</th>\n      <th>Location Rating</th>\n      <th>Value Rating</th>\n      <th>Instant Bookable</th>\n      <th>Host Response Rate Reduced</th>\n      <th>Overall Rating Reduced</th>\n      <th>Neighbourhood Grouped</th>\n      <th>Property Type Reduced</th>\n      <th>Postal Code Reduced</th>\n      <th>Host Since Year</th>\n      <th>Review Date Year</th>\n    </tr>\n  </thead>\n  <tbody>\n    <tr>\n      <th>0</th>\n      <td>0</td>\n      <td>2019-01-03</td>\n      <td>All is awesome in this house ;)</td>\n      <td>10029891</td>\n      <td>2014-10-20</td>\n      <td>within a few hours</td>\n      <td>100.0</td>\n      <td>False</td>\n      <td>Kreuzberg</td>\n      <td>Friedrichshain-Kreuzberg</td>\n      <td>10967</td>\n      <td>52.49147</td>\n      <td>13.40926</td>\n      <td>False</td>\n      <td>Apartment</td>\n      <td>Entire home/apt</td>\n      <td>4</td>\n      <td>1.0</td>\n      <td>2.0</td>\n      <td>3.0</td>\n      <td>50.0</td>\n      <td>2</td>\n      <td>3</td>\n      <td>7</td>\n      <td>97.0</td>\n      <td>10.0</td>\n      <td>9.0</td>\n      <td>9.0</td>\n      <td>10.0</td>\n      <td>10.0</td>\n      <td>9.0</td>\n      <td>False</td>\n      <td>Very High Response</td>\n      <td>10.0</td>\n      <td>Friedrichshain-Kreuzberg</td>\n      <td>Apartment</td>\n      <td>10</td>\n      <td>2014</td>\n      <td>2019</td>\n    </tr>\n    <tr>\n      <th>1</th>\n      <td>1</td>\n      <td>2019-03-09</td>\n      <td>Good location, train station down the block wi...</td>\n      <td>10029891</td>\n      <td>2014-10-20</td>\n      <td>within a few hours</td>\n      <td>100.0</td>\n      <td>False</td>\n      <td>Kreuzberg</td>\n      <td>Friedrichshain-Kreuzberg</td>\n      <td>10967</td>\n      <td>52.49147</td>\n      <td>13.40926</td>\n      <td>False</td>\n      <td>Apartment</td>\n      <td>Entire home/apt</td>\n      <td>4</td>\n      <td>1.0</td>\n      <td>2.0</td>\n      <td>3.0</td>\n      <td>50.0</td>\n      <td>2</td>\n      <td>3</td>\n      <td>7</td>\n      <td>97.0</td>\n      <td>10.0</td>\n      <td>9.0</td>\n      <td>9.0</td>\n      <td>10.0</td>\n      <td>10.0</td>\n      <td>9.0</td>\n      <td>False</td>\n      <td>Very High Response</td>\n      <td>10.0</td>\n      <td>Friedrichshain-Kreuzberg</td>\n      <td>Apartment</td>\n      <td>10</td>\n      <td>2014</td>\n      <td>2019</td>\n    </tr>\n  </tbody>\n</table>\n</div>"
     },
     "execution_count": 10,
     "metadata": {},
     "output_type": "execute_result"
    }
   ]
  },
  {
   "cell_type": "code",
   "source": [
    "df = df.drop(columns=['Host Since', 'review_date', 'neighbourhood', 'Property Type', 'Postal Code',\n",
    "                 'Host Response Rate', 'Overall Rating','Instant Bookable', 'Is Superhost',\n",
    "                 'Is Exact Location',\n",
    "                 'Comments'])"
   ],
   "metadata": {
    "id": "wRsyJD-6qSXH"
   },
   "execution_count": null,
   "outputs": []
  },
  {
   "cell_type": "code",
   "source": [
    "df.head(2)"
   ],
   "metadata": {
    "colab": {
     "base_uri": "https://localhost:8080/",
     "height": 250
    },
    "id": "nQhKX0Z1jEAH",
    "outputId": "c5f0793e-c8f9-4ff2-c5c7-a4cce5d4d591"
   },
   "execution_count": null,
   "outputs": [
    {
     "data": {
      "text/plain": "   index  Listing ID  Host Response Time        Neighborhood Group  Latitude  \\\n0      0    10029891  within a few hours  Friedrichshain-Kreuzberg  52.49147   \n1      1    10029891  within a few hours  Friedrichshain-Kreuzberg  52.49147   \n\n   Longitude        Room Type  Accomodates  Bathrooms  Bedrooms  Beds  Price  \\\n0   13.40926  Entire home/apt            4        1.0       2.0   3.0   50.0   \n1   13.40926  Entire home/apt            4        1.0       2.0   3.0   50.0   \n\n   Guests Included  Min Nights  Reviews  Accuracy Rating  Cleanliness Rating  \\\n0                2           3        7             10.0                 9.0   \n1                2           3        7             10.0                 9.0   \n\n   Checkin Rating  Communication Rating  Location Rating  Value Rating  \\\n0             9.0                  10.0             10.0           9.0   \n1             9.0                  10.0             10.0           9.0   \n\n  Host Response Rate Reduced  Overall Rating Reduced  \\\n0         Very High Response                    10.0   \n1         Very High Response                    10.0   \n\n      Neighbourhood Grouped Property Type Reduced Postal Code Reduced  \\\n0  Friedrichshain-Kreuzberg             Apartment                  10   \n1  Friedrichshain-Kreuzberg             Apartment                  10   \n\n   Host Since Year  Review Date Year  \n0             2014              2019  \n1             2014              2019  ",
      "text/html": "<div>\n<style scoped>\n    .dataframe tbody tr th:only-of-type {\n        vertical-align: middle;\n    }\n\n    .dataframe tbody tr th {\n        vertical-align: top;\n    }\n\n    .dataframe thead th {\n        text-align: right;\n    }\n</style>\n<table border=\"1\" class=\"dataframe\">\n  <thead>\n    <tr style=\"text-align: right;\">\n      <th></th>\n      <th>index</th>\n      <th>Listing ID</th>\n      <th>Host Response Time</th>\n      <th>Neighborhood Group</th>\n      <th>Latitude</th>\n      <th>Longitude</th>\n      <th>Room Type</th>\n      <th>Accomodates</th>\n      <th>Bathrooms</th>\n      <th>Bedrooms</th>\n      <th>Beds</th>\n      <th>Price</th>\n      <th>Guests Included</th>\n      <th>Min Nights</th>\n      <th>Reviews</th>\n      <th>Accuracy Rating</th>\n      <th>Cleanliness Rating</th>\n      <th>Checkin Rating</th>\n      <th>Communication Rating</th>\n      <th>Location Rating</th>\n      <th>Value Rating</th>\n      <th>Host Response Rate Reduced</th>\n      <th>Overall Rating Reduced</th>\n      <th>Neighbourhood Grouped</th>\n      <th>Property Type Reduced</th>\n      <th>Postal Code Reduced</th>\n      <th>Host Since Year</th>\n      <th>Review Date Year</th>\n    </tr>\n  </thead>\n  <tbody>\n    <tr>\n      <th>0</th>\n      <td>0</td>\n      <td>10029891</td>\n      <td>within a few hours</td>\n      <td>Friedrichshain-Kreuzberg</td>\n      <td>52.49147</td>\n      <td>13.40926</td>\n      <td>Entire home/apt</td>\n      <td>4</td>\n      <td>1.0</td>\n      <td>2.0</td>\n      <td>3.0</td>\n      <td>50.0</td>\n      <td>2</td>\n      <td>3</td>\n      <td>7</td>\n      <td>10.0</td>\n      <td>9.0</td>\n      <td>9.0</td>\n      <td>10.0</td>\n      <td>10.0</td>\n      <td>9.0</td>\n      <td>Very High Response</td>\n      <td>10.0</td>\n      <td>Friedrichshain-Kreuzberg</td>\n      <td>Apartment</td>\n      <td>10</td>\n      <td>2014</td>\n      <td>2019</td>\n    </tr>\n    <tr>\n      <th>1</th>\n      <td>1</td>\n      <td>10029891</td>\n      <td>within a few hours</td>\n      <td>Friedrichshain-Kreuzberg</td>\n      <td>52.49147</td>\n      <td>13.40926</td>\n      <td>Entire home/apt</td>\n      <td>4</td>\n      <td>1.0</td>\n      <td>2.0</td>\n      <td>3.0</td>\n      <td>50.0</td>\n      <td>2</td>\n      <td>3</td>\n      <td>7</td>\n      <td>10.0</td>\n      <td>9.0</td>\n      <td>9.0</td>\n      <td>10.0</td>\n      <td>10.0</td>\n      <td>9.0</td>\n      <td>Very High Response</td>\n      <td>10.0</td>\n      <td>Friedrichshain-Kreuzberg</td>\n      <td>Apartment</td>\n      <td>10</td>\n      <td>2014</td>\n      <td>2019</td>\n    </tr>\n  </tbody>\n</table>\n</div>"
     },
     "execution_count": 12,
     "metadata": {},
     "output_type": "execute_result"
    }
   ]
  },
  {
   "cell_type": "code",
   "source": [
    "df.info()"
   ],
   "metadata": {
    "colab": {
     "base_uri": "https://localhost:8080/"
    },
    "id": "cOmZyNIsmbAa",
    "outputId": "5eae3fcf-7e2c-4299-a7c2-4b8f13f7022b"
   },
   "execution_count": null,
   "outputs": [
    {
     "name": "stdout",
     "output_type": "stream",
     "text": [
      "<class 'pandas.core.frame.DataFrame'>\n",
      "RangeIndex: 66833 entries, 0 to 66832\n",
      "Data columns (total 28 columns):\n",
      " #   Column                      Non-Null Count  Dtype   \n",
      "---  ------                      --------------  -----   \n",
      " 0   index                       66833 non-null  int64   \n",
      " 1   Listing ID                  66833 non-null  int64   \n",
      " 2   Host Response Time          65868 non-null  object  \n",
      " 3   Neighborhood Group          66833 non-null  object  \n",
      " 4   Latitude                    66833 non-null  float64 \n",
      " 5   Longitude                   66833 non-null  float64 \n",
      " 6   Room Type                   66833 non-null  object  \n",
      " 7   Accomodates                 66833 non-null  int64   \n",
      " 8   Bathrooms                   66791 non-null  float64 \n",
      " 9   Bedrooms                    66763 non-null  float64 \n",
      " 10  Beds                        66829 non-null  float64 \n",
      " 11  Price                       66833 non-null  float64 \n",
      " 12  Guests Included             66833 non-null  int64   \n",
      " 13  Min Nights                  66833 non-null  int64   \n",
      " 14  Reviews                     66833 non-null  int64   \n",
      " 15  Accuracy Rating             66719 non-null  float64 \n",
      " 16  Cleanliness Rating          66719 non-null  float64 \n",
      " 17  Checkin Rating              66719 non-null  float64 \n",
      " 18  Communication Rating        66719 non-null  float64 \n",
      " 19  Location Rating             66719 non-null  float64 \n",
      " 20  Value Rating                66719 non-null  float64 \n",
      " 21  Host Response Rate Reduced  65868 non-null  category\n",
      " 22  Overall Rating Reduced      66719 non-null  float64 \n",
      " 23  Neighbourhood Grouped       66833 non-null  object  \n",
      " 24  Property Type Reduced       66833 non-null  object  \n",
      " 25  Postal Code Reduced         66833 non-null  object  \n",
      " 26  Host Since Year             66833 non-null  int32   \n",
      " 27  Review Date Year            66833 non-null  int32   \n",
      "dtypes: category(1), float64(13), int32(2), int64(6), object(6)\n",
      "memory usage: 13.3+ MB\n"
     ]
    }
   ]
  },
  {
   "cell_type": "code",
   "execution_count": null,
   "outputs": [],
   "source": [],
   "metadata": {
    "id": "fDZShakqoYIx"
   }
  },
  {
   "cell_type": "markdown",
   "source": [
    "# 2. Exploratory Data Analysis (EDA)"
   ],
   "metadata": {
    "collapsed": false,
    "id": "aVS9_zd9oYIx"
   }
  },
  {
   "cell_type": "markdown",
   "source": [
    "# 5. Feature Engineering"
   ],
   "metadata": {
    "collapsed": false,
    "id": "hR2MC6croYIx"
   }
  },
  {
   "cell_type": "markdown",
   "source": [
    "## Enriching\n",
    "Create new feature of the listing distance from city center"
   ],
   "metadata": {
    "collapsed": false,
    "id": "tQ_EKMheoYIx"
   }
  },
  {
   "cell_type": "code",
   "execution_count": null,
   "outputs": [],
   "source": [
    "from geopy.distance import great_circle\n",
    "def distance_to_mid(lat, lon):\n",
    "    berlin_centre = (52.5027778, 13.404166666666667)\n",
    "    accommodation = (lat, lon)\n",
    "    return great_circle(berlin_centre, accommodation).km\n",
    "\n",
    "df['Distance From Center'] = df.apply(lambda row: round(distance_to_mid(row['Latitude'], row['Longitude']), 1), axis=1)\n",
    "bins = [0, 0.5, 1, 2, 4, 8, 16, 32]\n",
    "labels = [\"0_5_km\", \"1_km\", \"2_km\", \"4_km\", \"8_km\", \"16_km\", \"32_km\"]\n",
    "\n",
    "# Apply pd.cut() to create a new binned column\n",
    "df[\"Distance From Center\"] = pd.cut(df[\"Distance From Center\"], bins=bins, labels=labels, include_lowest=True)"
   ],
   "metadata": {
    "id": "tEyNR7rSoYIy"
   }
  },
  {
   "cell_type": "code",
   "execution_count": null,
   "outputs": [],
   "source": [],
   "metadata": {
    "id": "tudtYJRcoYIy"
   }
  }
 ]
}
