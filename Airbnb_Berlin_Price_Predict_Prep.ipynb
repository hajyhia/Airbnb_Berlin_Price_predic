{
  "nbformat": 4,
  "nbformat_minor": 0,
  "metadata": {
    "colab": {
      "provenance": [],
      "toc_visible": true
    },
    "kernelspec": {
      "name": "python3",
      "display_name": "Python 3"
    },
    "language_info": {
      "name": "python"
    }
  },
  "cells": [
    {
      "cell_type": "code",
      "source": [
        "# !pip install missingno\n",
        "# !pip install geopy"
      ],
      "metadata": {
        "id": "-L1XbnrJYgiZ"
      },
      "execution_count": 146,
      "outputs": []
    },
    {
      "cell_type": "code",
      "source": [
        "import seaborn as sns\n",
        "import matplotlib.pyplot as plt\n",
        "import pandas as pd\n",
        "import numpy as np\n",
        "import warnings\n",
        "\n",
        "# Ignore warnings\n",
        "warnings.filterwarnings('ignore')\n",
        "pd.set_option('display.max_columns', None)"
      ],
      "metadata": {
        "id": "FwFelltQfgFE"
      },
      "execution_count": 147,
      "outputs": []
    },
    {
      "cell_type": "code",
      "execution_count": 148,
      "metadata": {
        "id": "3Dj3TXKX8skK",
        "colab": {
          "base_uri": "https://localhost:8080/"
        },
        "outputId": "88771529-b770-4812-cd85-93419d6b8189"
      },
      "outputs": [
        {
          "output_type": "stream",
          "name": "stdout",
          "text": [
            "Drive already mounted at /content/drive; to attempt to forcibly remount, call drive.mount(\"/content/drive\", force_remount=True).\n"
          ]
        }
      ],
      "source": [
        "from google.colab import drive\n",
        "drive.mount('/content/drive')"
      ]
    },
    {
      "cell_type": "code",
      "source": [
        "AirbnbBerlin_df = pd.read_csv('/content/drive/My Drive/Airbnb/Airbnb Berlin.csv', index_col=0)\n",
        "# AirbnbBerlin_df = pd.read_csv('/content/Airbnb Berlin.csv')\n",
        "# df_2019 = AirbnbBerlin_df[AirbnbBerlin_df['review_date'].astype(str).str[6:] == '19']\n",
        "\n",
        "# df_2019 = pd.read_csv('/content/drive/My Drive/Airbnb/AirbnbBerlin_2019.csv', index_col=0)\n",
        "# df_2019 = pd.read_csv('./content/AirbnbBerlin_2019.csv')"
      ],
      "metadata": {
        "id": "01IKm7fk9D4J"
      },
      "execution_count": 149,
      "outputs": []
    },
    {
      "cell_type": "code",
      "source": [
        "df = AirbnbBerlin_df.copy()"
      ],
      "metadata": {
        "id": "flbZz61qsKVa"
      },
      "execution_count": 169,
      "outputs": []
    },
    {
      "cell_type": "markdown",
      "source": [
        "# 1. Data Preparation"
      ],
      "metadata": {
        "id": "5h-lhY-_Fegj"
      }
    },
    {
      "cell_type": "code",
      "source": [
        "df.info()"
      ],
      "metadata": {
        "colab": {
          "base_uri": "https://localhost:8080/"
        },
        "id": "Rs57u7s6iP6X",
        "outputId": "538ac50c-7fd4-4589-bc9d-5ce4275751f6"
      },
      "execution_count": 170,
      "outputs": [
        {
          "output_type": "stream",
          "name": "stdout",
          "text": [
            "<class 'pandas.core.frame.DataFrame'>\n",
            "Index: 456961 entries, 0 to 456960\n",
            "Data columns (total 46 columns):\n",
            " #   Column                 Non-Null Count   Dtype  \n",
            "---  ------                 --------------   -----  \n",
            " 0   Review ID              452805 non-null  float64\n",
            " 1   review_date            452805 non-null  object \n",
            " 2   Reviewer ID            452805 non-null  float64\n",
            " 3   Reviewer Name          452805 non-null  object \n",
            " 4   Comments               452595 non-null  object \n",
            " 5   Listing ID             456961 non-null  int64  \n",
            " 6   Listing URL            456961 non-null  object \n",
            " 7   Listing Name           456756 non-null  object \n",
            " 8   Host ID                456961 non-null  int64  \n",
            " 9   Host URL               456961 non-null  object \n",
            " 10  Host Name              456913 non-null  object \n",
            " 11  Host Since             456913 non-null  object \n",
            " 12  Host Response Time     398194 non-null  object \n",
            " 13  Host Response Rate     398194 non-null  object \n",
            " 14  Is Superhost           456913 non-null  object \n",
            " 15  neighbourhood          456961 non-null  object \n",
            " 16  Neighborhood Group     456961 non-null  object \n",
            " 17  City                   456928 non-null  object \n",
            " 18  Postal Code            449258 non-null  object \n",
            " 19  Country Code           456961 non-null  object \n",
            " 20  Country                456961 non-null  object \n",
            " 21  Latitude               456961 non-null  float64\n",
            " 22  Longitude              456961 non-null  float64\n",
            " 23  Is Exact Location      456961 non-null  object \n",
            " 24  Property Type          456961 non-null  object \n",
            " 25  Room Type              456961 non-null  object \n",
            " 26  Accomodates            456961 non-null  int64  \n",
            " 27  Bathrooms              456018 non-null  float64\n",
            " 28  Bedrooms               456244 non-null  float64\n",
            " 29  Beds                   456871 non-null  float64\n",
            " 30  Square Feet            28675 non-null   float64\n",
            " 31  Price                  456961 non-null  object \n",
            " 32  Guests Included        456961 non-null  int64  \n",
            " 33  Min Nights             456961 non-null  int64  \n",
            " 34  Reviews                456961 non-null  int64  \n",
            " 35  First Review           452805 non-null  object \n",
            " 36  Last Review            452805 non-null  object \n",
            " 37  Overall Rating         452242 non-null  float64\n",
            " 38  Accuracy Rating        452209 non-null  float64\n",
            " 39  Cleanliness Rating     452211 non-null  float64\n",
            " 40  Checkin Rating         452188 non-null  float64\n",
            " 41  Communication Rating   452205 non-null  float64\n",
            " 42  Location Rating        452186 non-null  float64\n",
            " 43  Value Rating           452185 non-null  float64\n",
            " 44  Instant Bookable       456961 non-null  object \n",
            " 45  Business Travel Ready  456961 non-null  object \n",
            "dtypes: float64(15), int64(6), object(25)\n",
            "memory usage: 163.9+ MB\n"
          ]
        }
      ]
    },
    {
      "cell_type": "markdown",
      "source": [
        "### Aggregate dataset by Listing ID"
      ],
      "metadata": {
        "id": "3NE9P4nQvGUH"
      }
    },
    {
      "cell_type": "markdown",
      "source": [
        "Clean text From pancutations or undesired characters"
      ],
      "metadata": {
        "id": "_RqCuIfGiywG"
      }
    },
    {
      "cell_type": "code",
      "source": [
        "# 1. Clean Text: Perform text cleaning, remove currency symbols & commas\n",
        "df['Price'] = df['Price'].replace('[\\$,]', '', regex=True).astype(float)\n",
        "df['Host Response Rate'] = df['Host Response Rate'].replace('[\\%,]', '', regex=True).astype(float)\n",
        "\n",
        "# Fix Postal Code incorrect values, remove '\\n' and other irrelevant text\n",
        "df['Postal Code'] = df['Postal Code'].astype(str).str[:5]"
      ],
      "metadata": {
        "id": "bpR4HfrLit2Y"
      },
      "execution_count": 172,
      "outputs": []
    },
    {
      "cell_type": "markdown",
      "source": [
        "Adjust Prices for Inflation"
      ],
      "metadata": {
        "id": "3imgidE2ur0j"
      }
    },
    {
      "cell_type": "code",
      "source": [
        "# Example CPI data\n",
        "cpi_data = {\n",
        "    2009: 92.2,\n",
        "    2010: 93.2,\n",
        "    2011: 95.2,\n",
        "    2012: 97.1,\n",
        "    2013: 98.5,\n",
        "    2014: 99.4,\n",
        "    2015: 100.0,\n",
        "    2016: 100.5,\n",
        "    2017: 102.0,\n",
        "    2018: 103.8,\n",
        "    2019: 105.3\n",
        "}\n",
        "\n",
        "# Base year for adjustment\n",
        "base_year = 2019\n",
        "base_cpi = cpi_data[base_year]\n",
        "\n",
        "# Function to adjust price for inflation\n",
        "def adjust_for_inflation(row):\n",
        "    original_year = row['Review Date Year']\n",
        "    original_price = row['Price']\n",
        "    if original_year in cpi_data:\n",
        "        original_cpi = cpi_data[original_year]\n",
        "        adjusted_price = original_price * (base_cpi / original_cpi)\n",
        "        return round(adjusted_price)\n",
        "    else:\n",
        "        return round(original_price)  # If year not in CPI data, return original price\n",
        "\n",
        "df['review_date'] = pd.to_datetime(df['review_date'])\n",
        "df['Review Date Year'] = df['review_date'].dt.year\n",
        "\n",
        "# Apply the adjustment\n",
        "df['Adjusted Price'] = df.apply(adjust_for_inflation, axis=1)"
      ],
      "metadata": {
        "id": "OjnLXxXburUb"
      },
      "execution_count": 173,
      "outputs": []
    },
    {
      "cell_type": "markdown",
      "source": [
        "Aggregate the dataset by 'Listing ID'\n",
        "- For numerical columns, we'll compute the mean\n",
        "- For categorical columns, we'll take the first value (assuming consistency)"
      ],
      "metadata": {
        "id": "ZGSs0dk3v0RN"
      }
    },
    {
      "cell_type": "code",
      "source": [
        "# Aggregate the dataset by 'Listing ID'\n",
        "# For numerical columns, we'll compute the mean\n",
        "# For categorical columns, we'll take the first value (assuming consistency)\n",
        "categorical_cols = df.select_dtypes(include=['object']).columns\n",
        "numerical_cols = df.select_dtypes(include=['number']).columns.difference(['Listing ID'])\n",
        "aggregated_df = df.groupby('Listing ID').agg({**{col: 'mean' for col in numerical_cols},\n",
        "                                              **{col: 'first' for col in categorical_cols}})\n",
        "\n",
        "# aggregated_df = df.groupby('Listing ID').agg({**{col: 'mean' for col in numerical_cols},\n",
        "#                                               **{col: lambda x: x.mode().iloc[0] if not x.mode().empty else None for col in categorical_cols}})\n",
        "\n",
        "print(aggregated_df.shape)"
      ],
      "metadata": {
        "colab": {
          "base_uri": "https://localhost:8080/"
        },
        "id": "DP7lGeAhuI9c",
        "outputId": "9e160696-8124-402f-aa92-3b291024dd18"
      },
      "execution_count": 177,
      "outputs": [
        {
          "output_type": "stream",
          "name": "stdout",
          "text": [
            "(23536, 46)\n"
          ]
        }
      ]
    },
    {
      "cell_type": "markdown",
      "source": [
        "### Features Selection\n",
        "1. If a categorical column is not relevant to the analysis, we can remove it.\n",
        "2. Listing URL, Listing Name, Host URL, Host Name: These are mostly unique to each listing, so not useful for category reduction"
      ],
      "metadata": {
        "id": "xio9gJg0wE6H"
      }
    },
    {
      "cell_type": "code",
      "source": [
        "aggregated_df.info()"
      ],
      "metadata": {
        "colab": {
          "base_uri": "https://localhost:8080/"
        },
        "id": "fq7qAcdW5tRU",
        "outputId": "be2dff65-b70c-46cb-c66c-d66240c13740"
      },
      "execution_count": 178,
      "outputs": [
        {
          "output_type": "stream",
          "name": "stdout",
          "text": [
            "<class 'pandas.core.frame.DataFrame'>\n",
            "Index: 23536 entries, 2695 to 34682315\n",
            "Data columns (total 46 columns):\n",
            " #   Column                 Non-Null Count  Dtype  \n",
            "---  ------                 --------------  -----  \n",
            " 0   Accomodates            23536 non-null  float64\n",
            " 1   Accuracy Rating        18888 non-null  float64\n",
            " 2   Adjusted Price         23536 non-null  float64\n",
            " 3   Bathrooms              23507 non-null  float64\n",
            " 4   Bedrooms               23516 non-null  float64\n",
            " 5   Beds                   23501 non-null  float64\n",
            " 6   Checkin Rating         18870 non-null  float64\n",
            " 7   Cleanliness Rating     18892 non-null  float64\n",
            " 8   Communication Rating   18886 non-null  float64\n",
            " 9   Guests Included        23536 non-null  float64\n",
            " 10  Host ID                23536 non-null  float64\n",
            " 11  Host Response Rate     13046 non-null  float64\n",
            " 12  Latitude               23536 non-null  float64\n",
            " 13  Location Rating        18871 non-null  float64\n",
            " 14  Longitude              23536 non-null  float64\n",
            " 15  Min Nights             23536 non-null  float64\n",
            " 16  Overall Rating         18914 non-null  float64\n",
            " 17  Price                  23536 non-null  float64\n",
            " 18  Review Date Year       19380 non-null  float64\n",
            " 19  Review ID              19380 non-null  float64\n",
            " 20  Reviewer ID            19380 non-null  float64\n",
            " 21  Reviews                23536 non-null  float64\n",
            " 22  Square Feet            425 non-null    float64\n",
            " 23  Value Rating           18868 non-null  float64\n",
            " 24  Reviewer Name          19380 non-null  object \n",
            " 25  Comments               19378 non-null  object \n",
            " 26  Listing URL            23536 non-null  object \n",
            " 27  Listing Name           23482 non-null  object \n",
            " 28  Host URL               23536 non-null  object \n",
            " 29  Host Name              23515 non-null  object \n",
            " 30  Host Since             23515 non-null  object \n",
            " 31  Host Response Time     13046 non-null  object \n",
            " 32  Is Superhost           23515 non-null  object \n",
            " 33  neighbourhood          23536 non-null  object \n",
            " 34  Neighborhood Group     23536 non-null  object \n",
            " 35  City                   23533 non-null  object \n",
            " 36  Postal Code            23536 non-null  object \n",
            " 37  Country Code           23536 non-null  object \n",
            " 38  Country                23536 non-null  object \n",
            " 39  Is Exact Location      23536 non-null  object \n",
            " 40  Property Type          23536 non-null  object \n",
            " 41  Room Type              23536 non-null  object \n",
            " 42  First Review           19380 non-null  object \n",
            " 43  Last Review            19380 non-null  object \n",
            " 44  Instant Bookable       23536 non-null  object \n",
            " 45  Business Travel Ready  23536 non-null  object \n",
            "dtypes: float64(24), object(22)\n",
            "memory usage: 8.4+ MB\n"
          ]
        }
      ]
    },
    {
      "cell_type": "code",
      "source": [
        "# drop the columns that is not helpful for prediction\n",
        "df = aggregated_df.copy()\n",
        "df = df.drop(columns=['Review ID', 'Reviewer ID', 'Reviewer Name', 'Listing URL','Listing Name',\n",
        "                      'Host ID', 'Host URL', 'Host Name', 'City', 'Country Code', 'Country',\n",
        "                      'First Review', 'Last Review', 'Square Feet', 'Business Travel Ready'])"
      ],
      "metadata": {
        "id": "tTbc3ky_wKnf"
      },
      "execution_count": 158,
      "outputs": []
    },
    {
      "cell_type": "markdown",
      "source": [
        "### Reduce Large Categories"
      ],
      "metadata": {
        "collapsed": false,
        "id": "-XSXiYA7oYIv"
      }
    },
    {
      "cell_type": "markdown",
      "source": [
        "1. Group Rare Categories: If a categorical column has many unique values, we can group infrequent categories into an \"Other\" category like 'Reviewer Name'.\n",
        "2. Merge Similar Categories: If there are similar categories (e.g., different spellings or formats of the same category), we can merge them.\n",
        "3. Binning: For numerical categories (like \"Overall Rating\" or \"Accommodates\"), we can create bins to reduce the number of unique values."
      ],
      "metadata": {
        "id": "-a-w8NDEkCyd"
      }
    },
    {
      "cell_type": "code",
      "source": [
        "# 2. Grouping neighbourhoods into Neighborhood Groups\n",
        "if 'Neighborhood Group' in df.columns:\n",
        "  neighbourhood_mapping = df.groupby('neighbourhood')['Neighborhood Group'].first()\n",
        "  df['Neighbourhood Grouped'] = df['neighbourhood'].map(neighbourhood_mapping)\n",
        "\n",
        "# 3. Reducing Property Types\n",
        "property_mapping = {\n",
        "    \"Villa\": \"Vacation Rental\",\n",
        "    \"Cottage\": \"Vacation Rental\",\n",
        "    \"Bungalow\": \"Vacation Rental\",\n",
        "    \"Cabin\": \"Vacation Rental\",\n",
        "    \"Tiny house\": \"Vacation Rental\",\n",
        "    \"Earth house\": \"Vacation Rental\",\n",
        "    \"Treehouse\": \"Vacation Rental\",\n",
        "    \"Hut\": \"Vacation Rental\",\n",
        "    \"Barn\": \"Vacation Rental\",\n",
        "    \"Houseboat\": \"Boats & Houseboats\",\n",
        "    \"Boat\": \"Boats & Houseboats\",\n",
        "    \"Camper/RV\": \"Mobile/Alternative Lodging\",\n",
        "    \"Cave\": \"Mobile/Alternative Lodging\",\n",
        "    \"Pension (South Korea)\": \"Mobile/Alternative Lodging\",\n",
        "    \"Casa particular (Cuba)\": \"Mobile/Alternative Lodging\",\n",
        "}\n",
        "\n",
        "# Apply mapping and assign 'Other' to rare categories\n",
        "top_property_types = [\n",
        "    \"Apartment\", \"Loft\", \"House\", \"Townhouse\", \"Condominium\", \"Serviced apartment\",\n",
        "    \"Hotel\", \"Hostel\", \"Guesthouse\", \"Bed and breakfast\", \"Boutique hotel\"\n",
        "]\n",
        "\n",
        "df['Property Type Reduced'] = df['Property Type'].apply(\n",
        "    lambda x: property_mapping.get(x, x) if x in top_property_types or x in property_mapping else \"Other\"\n",
        ")\n",
        "\n",
        "# 4. Binning Postal Codes (first two digits represent broad area)\n",
        "df['Postal Code Reduced'] = df['Postal Code'].astype(str).str[:2]  # Use only first 2 digits"
      ],
      "metadata": {
        "id": "CJ3Ge4wdgv7Q"
      },
      "execution_count": 179,
      "outputs": []
    },
    {
      "cell_type": "markdown",
      "source": [
        "### Transform/Manipulate data"
      ],
      "metadata": {
        "id": "Pk0aBQDak5Ya"
      }
    },
    {
      "cell_type": "code",
      "source": [
        "# Extracting years from date columns\n",
        "df['Host Since'] = pd.to_datetime(df['Host Since'])\n",
        "df['Host Since Year'] = df['Host Since'].dt.year\n",
        "\n",
        "# 5. transform true/false into bool\n",
        "df['Instant Bookable'] = df['Instant Bookable'].replace({'t': True, 'f': False})\n",
        "df['Is Superhost'] = df['Is Superhost'].replace({'t': True, 'f': False})\n",
        "df['Is Exact Location'] = df['Is Exact Location'].replace({'t': True, 'f': False})\n",
        "df['Instant Bookable'] = df['Instant Bookable'].replace({'t': True, 'f': False})"
      ],
      "metadata": {
        "id": "gzC56djpk_jq"
      },
      "execution_count": 180,
      "outputs": []
    },
    {
      "cell_type": "code",
      "source": [
        "df.info()"
      ],
      "metadata": {
        "colab": {
          "base_uri": "https://localhost:8080/"
        },
        "id": "oKjbuv9l6m7j",
        "outputId": "3bd6a633-1c06-4af5-a71a-3fcd5f04ab97"
      },
      "execution_count": 161,
      "outputs": [
        {
          "output_type": "stream",
          "name": "stdout",
          "text": [
            "<class 'pandas.core.frame.DataFrame'>\n",
            "Index: 23536 entries, 2695 to 34682315\n",
            "Data columns (total 35 columns):\n",
            " #   Column                 Non-Null Count  Dtype         \n",
            "---  ------                 --------------  -----         \n",
            " 0   Accomodates            23536 non-null  float64       \n",
            " 1   Accuracy Rating        18888 non-null  float64       \n",
            " 2   Adjusted Price         23536 non-null  float64       \n",
            " 3   Bathrooms              23507 non-null  float64       \n",
            " 4   Bedrooms               23516 non-null  float64       \n",
            " 5   Beds                   23501 non-null  float64       \n",
            " 6   Checkin Rating         18870 non-null  float64       \n",
            " 7   Cleanliness Rating     18892 non-null  float64       \n",
            " 8   Communication Rating   18886 non-null  float64       \n",
            " 9   Guests Included        23536 non-null  float64       \n",
            " 10  Host Response Rate     13046 non-null  float64       \n",
            " 11  Latitude               23536 non-null  float64       \n",
            " 12  Location Rating        18871 non-null  float64       \n",
            " 13  Longitude              23536 non-null  float64       \n",
            " 14  Min Nights             23536 non-null  float64       \n",
            " 15  Overall Rating         18914 non-null  float64       \n",
            " 16  Price                  23536 non-null  float64       \n",
            " 17  Review Date Year       19380 non-null  float64       \n",
            " 18  Reviews                23536 non-null  float64       \n",
            " 19  Value Rating           18868 non-null  float64       \n",
            " 20  Comments               19378 non-null  object        \n",
            " 21  Host Since             23515 non-null  datetime64[ns]\n",
            " 22  Host Response Time     13046 non-null  object        \n",
            " 23  Is Superhost           23515 non-null  object        \n",
            " 24  neighbourhood          23536 non-null  object        \n",
            " 25  Neighborhood Group     23536 non-null  object        \n",
            " 26  Postal Code            23536 non-null  object        \n",
            " 27  Is Exact Location      23536 non-null  bool          \n",
            " 28  Property Type          23536 non-null  object        \n",
            " 29  Room Type              23536 non-null  object        \n",
            " 30  Instant Bookable       23536 non-null  bool          \n",
            " 31  Neighbourhood Grouped  23536 non-null  object        \n",
            " 32  Property Type Reduced  23536 non-null  object        \n",
            " 33  Postal Code Reduced    23536 non-null  object        \n",
            " 34  Host Since Year        23515 non-null  float64       \n",
            "dtypes: bool(2), datetime64[ns](1), float64(21), object(11)\n",
            "memory usage: 6.2+ MB\n"
          ]
        }
      ]
    },
    {
      "cell_type": "code",
      "source": [
        "df.head(2)"
      ],
      "metadata": {
        "colab": {
          "base_uri": "https://localhost:8080/",
          "height": 319
        },
        "id": "l243bevTnszF",
        "outputId": "67ed71e5-0714-4fe0-ca1f-55b15685d137"
      },
      "execution_count": 181,
      "outputs": [
        {
          "output_type": "execute_result",
          "data": {
            "text/plain": [
              "        Review ID review_date  Reviewer ID Reviewer Name  \\\n",
              "index                                                      \n",
              "0      58660447.0  2016-01-03   14876562.0        Dennis   \n",
              "1             NaN         NaT          NaN           NaN   \n",
              "\n",
              "                                                Comments  Listing ID  \\\n",
              "index                                                                  \n",
              "0      Very nice, clean appartement! Josh was really ...    10002699   \n",
              "1                                                    NaN    10002922   \n",
              "\n",
              "                                 Listing URL                     Listing Name  \\\n",
              "index                                                                           \n",
              "0      https://www.airbnb.com/rooms/10002699  Trendy and peaceful KreuzkÃ¶lln   \n",
              "1      https://www.airbnb.com/rooms/10002922  Sehr zentrale Wohnung in Berlin   \n",
              "\n",
              "        Host ID                                    Host URL Host Name  \\\n",
              "index                                                                   \n",
              "0      44696672  https://www.airbnb.com/users/show/44696672      Josh   \n",
              "1      45848709  https://www.airbnb.com/users/show/45848709   Belinda   \n",
              "\n",
              "      Host Since Host Response Time  Host Response Rate Is Superhost  \\\n",
              "index                                                                  \n",
              "0     2015-09-20                NaN                 NaN        False   \n",
              "1     2015-10-05                NaN                 NaN        False   \n",
              "\n",
              "         neighbourhood Neighborhood Group    City Postal Code Country Code  \\\n",
              "index                                                                        \n",
              "0            NeukÃ¶lln          NeukÃ¶lln  Berlin       12047           DE   \n",
              "1      Prenzlauer Berg             Pankow  Berlin       10405           DE   \n",
              "\n",
              "       Country  Latitude  Longitude  Is Exact Location Property Type  \\\n",
              "index                                                                  \n",
              "0      Germany  52.49234   13.42994               True     Apartment   \n",
              "1      Germany  52.53292   13.41502              False     Apartment   \n",
              "\n",
              "             Room Type  Accomodates  Bathrooms  Bedrooms  Beds  Square Feet  \\\n",
              "index                                                                         \n",
              "0      Entire home/apt            4        1.0       2.0   2.0          NaN   \n",
              "1      Entire home/apt            2        1.0       1.0   1.0          NaN   \n",
              "\n",
              "       Price  Guests Included  Min Nights  Reviews First Review Last Review  \\\n",
              "index                                                                         \n",
              "0       60.0                1           1        1     01-03-16    01-03-16   \n",
              "1       52.0                1           1        0          NaN         NaN   \n",
              "\n",
              "       Overall Rating  Accuracy Rating  Cleanliness Rating  Checkin Rating  \\\n",
              "index                                                                        \n",
              "0               100.0              8.0                10.0             6.0   \n",
              "1                 NaN              NaN                 NaN             NaN   \n",
              "\n",
              "       Communication Rating  Location Rating  Value Rating  Instant Bookable  \\\n",
              "index                                                                          \n",
              "0                      10.0             10.0          10.0             False   \n",
              "1                       NaN              NaN           NaN             False   \n",
              "\n",
              "      Business Travel Ready  Review Date Year  Adjusted Price  \\\n",
              "index                                                           \n",
              "0                         f            2016.0              63   \n",
              "1                         f               NaN              52   \n",
              "\n",
              "      Neighbourhood Grouped Property Type Reduced Postal Code Reduced  \\\n",
              "index                                                                   \n",
              "0                 NeukÃ¶lln             Apartment                  12   \n",
              "1                    Pankow             Apartment                  10   \n",
              "\n",
              "       Host Since Year  \n",
              "index                   \n",
              "0               2015.0  \n",
              "1               2015.0  "
            ],
            "text/html": [
              "\n",
              "  <div id=\"df-d0ee4607-0a35-4b12-9ed9-5b5491a8af23\" class=\"colab-df-container\">\n",
              "    <div>\n",
              "<style scoped>\n",
              "    .dataframe tbody tr th:only-of-type {\n",
              "        vertical-align: middle;\n",
              "    }\n",
              "\n",
              "    .dataframe tbody tr th {\n",
              "        vertical-align: top;\n",
              "    }\n",
              "\n",
              "    .dataframe thead th {\n",
              "        text-align: right;\n",
              "    }\n",
              "</style>\n",
              "<table border=\"1\" class=\"dataframe\">\n",
              "  <thead>\n",
              "    <tr style=\"text-align: right;\">\n",
              "      <th></th>\n",
              "      <th>Review ID</th>\n",
              "      <th>review_date</th>\n",
              "      <th>Reviewer ID</th>\n",
              "      <th>Reviewer Name</th>\n",
              "      <th>Comments</th>\n",
              "      <th>Listing ID</th>\n",
              "      <th>Listing URL</th>\n",
              "      <th>Listing Name</th>\n",
              "      <th>Host ID</th>\n",
              "      <th>Host URL</th>\n",
              "      <th>Host Name</th>\n",
              "      <th>Host Since</th>\n",
              "      <th>Host Response Time</th>\n",
              "      <th>Host Response Rate</th>\n",
              "      <th>Is Superhost</th>\n",
              "      <th>neighbourhood</th>\n",
              "      <th>Neighborhood Group</th>\n",
              "      <th>City</th>\n",
              "      <th>Postal Code</th>\n",
              "      <th>Country Code</th>\n",
              "      <th>Country</th>\n",
              "      <th>Latitude</th>\n",
              "      <th>Longitude</th>\n",
              "      <th>Is Exact Location</th>\n",
              "      <th>Property Type</th>\n",
              "      <th>Room Type</th>\n",
              "      <th>Accomodates</th>\n",
              "      <th>Bathrooms</th>\n",
              "      <th>Bedrooms</th>\n",
              "      <th>Beds</th>\n",
              "      <th>Square Feet</th>\n",
              "      <th>Price</th>\n",
              "      <th>Guests Included</th>\n",
              "      <th>Min Nights</th>\n",
              "      <th>Reviews</th>\n",
              "      <th>First Review</th>\n",
              "      <th>Last Review</th>\n",
              "      <th>Overall Rating</th>\n",
              "      <th>Accuracy Rating</th>\n",
              "      <th>Cleanliness Rating</th>\n",
              "      <th>Checkin Rating</th>\n",
              "      <th>Communication Rating</th>\n",
              "      <th>Location Rating</th>\n",
              "      <th>Value Rating</th>\n",
              "      <th>Instant Bookable</th>\n",
              "      <th>Business Travel Ready</th>\n",
              "      <th>Review Date Year</th>\n",
              "      <th>Adjusted Price</th>\n",
              "      <th>Neighbourhood Grouped</th>\n",
              "      <th>Property Type Reduced</th>\n",
              "      <th>Postal Code Reduced</th>\n",
              "      <th>Host Since Year</th>\n",
              "    </tr>\n",
              "    <tr>\n",
              "      <th>index</th>\n",
              "      <th></th>\n",
              "      <th></th>\n",
              "      <th></th>\n",
              "      <th></th>\n",
              "      <th></th>\n",
              "      <th></th>\n",
              "      <th></th>\n",
              "      <th></th>\n",
              "      <th></th>\n",
              "      <th></th>\n",
              "      <th></th>\n",
              "      <th></th>\n",
              "      <th></th>\n",
              "      <th></th>\n",
              "      <th></th>\n",
              "      <th></th>\n",
              "      <th></th>\n",
              "      <th></th>\n",
              "      <th></th>\n",
              "      <th></th>\n",
              "      <th></th>\n",
              "      <th></th>\n",
              "      <th></th>\n",
              "      <th></th>\n",
              "      <th></th>\n",
              "      <th></th>\n",
              "      <th></th>\n",
              "      <th></th>\n",
              "      <th></th>\n",
              "      <th></th>\n",
              "      <th></th>\n",
              "      <th></th>\n",
              "      <th></th>\n",
              "      <th></th>\n",
              "      <th></th>\n",
              "      <th></th>\n",
              "      <th></th>\n",
              "      <th></th>\n",
              "      <th></th>\n",
              "      <th></th>\n",
              "      <th></th>\n",
              "      <th></th>\n",
              "      <th></th>\n",
              "      <th></th>\n",
              "      <th></th>\n",
              "      <th></th>\n",
              "      <th></th>\n",
              "      <th></th>\n",
              "      <th></th>\n",
              "      <th></th>\n",
              "      <th></th>\n",
              "      <th></th>\n",
              "    </tr>\n",
              "  </thead>\n",
              "  <tbody>\n",
              "    <tr>\n",
              "      <th>0</th>\n",
              "      <td>58660447.0</td>\n",
              "      <td>2016-01-03</td>\n",
              "      <td>14876562.0</td>\n",
              "      <td>Dennis</td>\n",
              "      <td>Very nice, clean appartement! Josh was really ...</td>\n",
              "      <td>10002699</td>\n",
              "      <td>https://www.airbnb.com/rooms/10002699</td>\n",
              "      <td>Trendy and peaceful KreuzkÃ¶lln</td>\n",
              "      <td>44696672</td>\n",
              "      <td>https://www.airbnb.com/users/show/44696672</td>\n",
              "      <td>Josh</td>\n",
              "      <td>2015-09-20</td>\n",
              "      <td>NaN</td>\n",
              "      <td>NaN</td>\n",
              "      <td>False</td>\n",
              "      <td>NeukÃ¶lln</td>\n",
              "      <td>NeukÃ¶lln</td>\n",
              "      <td>Berlin</td>\n",
              "      <td>12047</td>\n",
              "      <td>DE</td>\n",
              "      <td>Germany</td>\n",
              "      <td>52.49234</td>\n",
              "      <td>13.42994</td>\n",
              "      <td>True</td>\n",
              "      <td>Apartment</td>\n",
              "      <td>Entire home/apt</td>\n",
              "      <td>4</td>\n",
              "      <td>1.0</td>\n",
              "      <td>2.0</td>\n",
              "      <td>2.0</td>\n",
              "      <td>NaN</td>\n",
              "      <td>60.0</td>\n",
              "      <td>1</td>\n",
              "      <td>1</td>\n",
              "      <td>1</td>\n",
              "      <td>01-03-16</td>\n",
              "      <td>01-03-16</td>\n",
              "      <td>100.0</td>\n",
              "      <td>8.0</td>\n",
              "      <td>10.0</td>\n",
              "      <td>6.0</td>\n",
              "      <td>10.0</td>\n",
              "      <td>10.0</td>\n",
              "      <td>10.0</td>\n",
              "      <td>False</td>\n",
              "      <td>f</td>\n",
              "      <td>2016.0</td>\n",
              "      <td>63</td>\n",
              "      <td>NeukÃ¶lln</td>\n",
              "      <td>Apartment</td>\n",
              "      <td>12</td>\n",
              "      <td>2015.0</td>\n",
              "    </tr>\n",
              "    <tr>\n",
              "      <th>1</th>\n",
              "      <td>NaN</td>\n",
              "      <td>NaT</td>\n",
              "      <td>NaN</td>\n",
              "      <td>NaN</td>\n",
              "      <td>NaN</td>\n",
              "      <td>10002922</td>\n",
              "      <td>https://www.airbnb.com/rooms/10002922</td>\n",
              "      <td>Sehr zentrale Wohnung in Berlin</td>\n",
              "      <td>45848709</td>\n",
              "      <td>https://www.airbnb.com/users/show/45848709</td>\n",
              "      <td>Belinda</td>\n",
              "      <td>2015-10-05</td>\n",
              "      <td>NaN</td>\n",
              "      <td>NaN</td>\n",
              "      <td>False</td>\n",
              "      <td>Prenzlauer Berg</td>\n",
              "      <td>Pankow</td>\n",
              "      <td>Berlin</td>\n",
              "      <td>10405</td>\n",
              "      <td>DE</td>\n",
              "      <td>Germany</td>\n",
              "      <td>52.53292</td>\n",
              "      <td>13.41502</td>\n",
              "      <td>False</td>\n",
              "      <td>Apartment</td>\n",
              "      <td>Entire home/apt</td>\n",
              "      <td>2</td>\n",
              "      <td>1.0</td>\n",
              "      <td>1.0</td>\n",
              "      <td>1.0</td>\n",
              "      <td>NaN</td>\n",
              "      <td>52.0</td>\n",
              "      <td>1</td>\n",
              "      <td>1</td>\n",
              "      <td>0</td>\n",
              "      <td>NaN</td>\n",
              "      <td>NaN</td>\n",
              "      <td>NaN</td>\n",
              "      <td>NaN</td>\n",
              "      <td>NaN</td>\n",
              "      <td>NaN</td>\n",
              "      <td>NaN</td>\n",
              "      <td>NaN</td>\n",
              "      <td>NaN</td>\n",
              "      <td>False</td>\n",
              "      <td>f</td>\n",
              "      <td>NaN</td>\n",
              "      <td>52</td>\n",
              "      <td>Pankow</td>\n",
              "      <td>Apartment</td>\n",
              "      <td>10</td>\n",
              "      <td>2015.0</td>\n",
              "    </tr>\n",
              "  </tbody>\n",
              "</table>\n",
              "</div>\n",
              "    <div class=\"colab-df-buttons\">\n",
              "\n",
              "  <div class=\"colab-df-container\">\n",
              "    <button class=\"colab-df-convert\" onclick=\"convertToInteractive('df-d0ee4607-0a35-4b12-9ed9-5b5491a8af23')\"\n",
              "            title=\"Convert this dataframe to an interactive table.\"\n",
              "            style=\"display:none;\">\n",
              "\n",
              "  <svg xmlns=\"http://www.w3.org/2000/svg\" height=\"24px\" viewBox=\"0 -960 960 960\">\n",
              "    <path d=\"M120-120v-720h720v720H120Zm60-500h600v-160H180v160Zm220 220h160v-160H400v160Zm0 220h160v-160H400v160ZM180-400h160v-160H180v160Zm440 0h160v-160H620v160ZM180-180h160v-160H180v160Zm440 0h160v-160H620v160Z\"/>\n",
              "  </svg>\n",
              "    </button>\n",
              "\n",
              "  <style>\n",
              "    .colab-df-container {\n",
              "      display:flex;\n",
              "      gap: 12px;\n",
              "    }\n",
              "\n",
              "    .colab-df-convert {\n",
              "      background-color: #E8F0FE;\n",
              "      border: none;\n",
              "      border-radius: 50%;\n",
              "      cursor: pointer;\n",
              "      display: none;\n",
              "      fill: #1967D2;\n",
              "      height: 32px;\n",
              "      padding: 0 0 0 0;\n",
              "      width: 32px;\n",
              "    }\n",
              "\n",
              "    .colab-df-convert:hover {\n",
              "      background-color: #E2EBFA;\n",
              "      box-shadow: 0px 1px 2px rgba(60, 64, 67, 0.3), 0px 1px 3px 1px rgba(60, 64, 67, 0.15);\n",
              "      fill: #174EA6;\n",
              "    }\n",
              "\n",
              "    .colab-df-buttons div {\n",
              "      margin-bottom: 4px;\n",
              "    }\n",
              "\n",
              "    [theme=dark] .colab-df-convert {\n",
              "      background-color: #3B4455;\n",
              "      fill: #D2E3FC;\n",
              "    }\n",
              "\n",
              "    [theme=dark] .colab-df-convert:hover {\n",
              "      background-color: #434B5C;\n",
              "      box-shadow: 0px 1px 3px 1px rgba(0, 0, 0, 0.15);\n",
              "      filter: drop-shadow(0px 1px 2px rgba(0, 0, 0, 0.3));\n",
              "      fill: #FFFFFF;\n",
              "    }\n",
              "  </style>\n",
              "\n",
              "    <script>\n",
              "      const buttonEl =\n",
              "        document.querySelector('#df-d0ee4607-0a35-4b12-9ed9-5b5491a8af23 button.colab-df-convert');\n",
              "      buttonEl.style.display =\n",
              "        google.colab.kernel.accessAllowed ? 'block' : 'none';\n",
              "\n",
              "      async function convertToInteractive(key) {\n",
              "        const element = document.querySelector('#df-d0ee4607-0a35-4b12-9ed9-5b5491a8af23');\n",
              "        const dataTable =\n",
              "          await google.colab.kernel.invokeFunction('convertToInteractive',\n",
              "                                                    [key], {});\n",
              "        if (!dataTable) return;\n",
              "\n",
              "        const docLinkHtml = 'Like what you see? Visit the ' +\n",
              "          '<a target=\"_blank\" href=https://colab.research.google.com/notebooks/data_table.ipynb>data table notebook</a>'\n",
              "          + ' to learn more about interactive tables.';\n",
              "        element.innerHTML = '';\n",
              "        dataTable['output_type'] = 'display_data';\n",
              "        await google.colab.output.renderOutput(dataTable, element);\n",
              "        const docLink = document.createElement('div');\n",
              "        docLink.innerHTML = docLinkHtml;\n",
              "        element.appendChild(docLink);\n",
              "      }\n",
              "    </script>\n",
              "  </div>\n",
              "\n",
              "\n",
              "<div id=\"df-21c4f668-b485-4a50-b31d-ff9c9e94dd97\">\n",
              "  <button class=\"colab-df-quickchart\" onclick=\"quickchart('df-21c4f668-b485-4a50-b31d-ff9c9e94dd97')\"\n",
              "            title=\"Suggest charts\"\n",
              "            style=\"display:none;\">\n",
              "\n",
              "<svg xmlns=\"http://www.w3.org/2000/svg\" height=\"24px\"viewBox=\"0 0 24 24\"\n",
              "     width=\"24px\">\n",
              "    <g>\n",
              "        <path d=\"M19 3H5c-1.1 0-2 .9-2 2v14c0 1.1.9 2 2 2h14c1.1 0 2-.9 2-2V5c0-1.1-.9-2-2-2zM9 17H7v-7h2v7zm4 0h-2V7h2v10zm4 0h-2v-4h2v4z\"/>\n",
              "    </g>\n",
              "</svg>\n",
              "  </button>\n",
              "\n",
              "<style>\n",
              "  .colab-df-quickchart {\n",
              "      --bg-color: #E8F0FE;\n",
              "      --fill-color: #1967D2;\n",
              "      --hover-bg-color: #E2EBFA;\n",
              "      --hover-fill-color: #174EA6;\n",
              "      --disabled-fill-color: #AAA;\n",
              "      --disabled-bg-color: #DDD;\n",
              "  }\n",
              "\n",
              "  [theme=dark] .colab-df-quickchart {\n",
              "      --bg-color: #3B4455;\n",
              "      --fill-color: #D2E3FC;\n",
              "      --hover-bg-color: #434B5C;\n",
              "      --hover-fill-color: #FFFFFF;\n",
              "      --disabled-bg-color: #3B4455;\n",
              "      --disabled-fill-color: #666;\n",
              "  }\n",
              "\n",
              "  .colab-df-quickchart {\n",
              "    background-color: var(--bg-color);\n",
              "    border: none;\n",
              "    border-radius: 50%;\n",
              "    cursor: pointer;\n",
              "    display: none;\n",
              "    fill: var(--fill-color);\n",
              "    height: 32px;\n",
              "    padding: 0;\n",
              "    width: 32px;\n",
              "  }\n",
              "\n",
              "  .colab-df-quickchart:hover {\n",
              "    background-color: var(--hover-bg-color);\n",
              "    box-shadow: 0 1px 2px rgba(60, 64, 67, 0.3), 0 1px 3px 1px rgba(60, 64, 67, 0.15);\n",
              "    fill: var(--button-hover-fill-color);\n",
              "  }\n",
              "\n",
              "  .colab-df-quickchart-complete:disabled,\n",
              "  .colab-df-quickchart-complete:disabled:hover {\n",
              "    background-color: var(--disabled-bg-color);\n",
              "    fill: var(--disabled-fill-color);\n",
              "    box-shadow: none;\n",
              "  }\n",
              "\n",
              "  .colab-df-spinner {\n",
              "    border: 2px solid var(--fill-color);\n",
              "    border-color: transparent;\n",
              "    border-bottom-color: var(--fill-color);\n",
              "    animation:\n",
              "      spin 1s steps(1) infinite;\n",
              "  }\n",
              "\n",
              "  @keyframes spin {\n",
              "    0% {\n",
              "      border-color: transparent;\n",
              "      border-bottom-color: var(--fill-color);\n",
              "      border-left-color: var(--fill-color);\n",
              "    }\n",
              "    20% {\n",
              "      border-color: transparent;\n",
              "      border-left-color: var(--fill-color);\n",
              "      border-top-color: var(--fill-color);\n",
              "    }\n",
              "    30% {\n",
              "      border-color: transparent;\n",
              "      border-left-color: var(--fill-color);\n",
              "      border-top-color: var(--fill-color);\n",
              "      border-right-color: var(--fill-color);\n",
              "    }\n",
              "    40% {\n",
              "      border-color: transparent;\n",
              "      border-right-color: var(--fill-color);\n",
              "      border-top-color: var(--fill-color);\n",
              "    }\n",
              "    60% {\n",
              "      border-color: transparent;\n",
              "      border-right-color: var(--fill-color);\n",
              "    }\n",
              "    80% {\n",
              "      border-color: transparent;\n",
              "      border-right-color: var(--fill-color);\n",
              "      border-bottom-color: var(--fill-color);\n",
              "    }\n",
              "    90% {\n",
              "      border-color: transparent;\n",
              "      border-bottom-color: var(--fill-color);\n",
              "    }\n",
              "  }\n",
              "</style>\n",
              "\n",
              "  <script>\n",
              "    async function quickchart(key) {\n",
              "      const quickchartButtonEl =\n",
              "        document.querySelector('#' + key + ' button');\n",
              "      quickchartButtonEl.disabled = true;  // To prevent multiple clicks.\n",
              "      quickchartButtonEl.classList.add('colab-df-spinner');\n",
              "      try {\n",
              "        const charts = await google.colab.kernel.invokeFunction(\n",
              "            'suggestCharts', [key], {});\n",
              "      } catch (error) {\n",
              "        console.error('Error during call to suggestCharts:', error);\n",
              "      }\n",
              "      quickchartButtonEl.classList.remove('colab-df-spinner');\n",
              "      quickchartButtonEl.classList.add('colab-df-quickchart-complete');\n",
              "    }\n",
              "    (() => {\n",
              "      let quickchartButtonEl =\n",
              "        document.querySelector('#df-21c4f668-b485-4a50-b31d-ff9c9e94dd97 button');\n",
              "      quickchartButtonEl.style.display =\n",
              "        google.colab.kernel.accessAllowed ? 'block' : 'none';\n",
              "    })();\n",
              "  </script>\n",
              "</div>\n",
              "\n",
              "    </div>\n",
              "  </div>\n"
            ],
            "application/vnd.google.colaboratory.intrinsic+json": {
              "type": "dataframe",
              "variable_name": "df"
            }
          },
          "metadata": {},
          "execution_count": 181
        }
      ]
    },
    {
      "cell_type": "markdown",
      "source": [
        "### EDA (Exploratory Data Analysis)"
      ],
      "metadata": {
        "id": "iX6najvG_y-e"
      }
    },
    {
      "cell_type": "code",
      "source": [
        "df_EDA = df.drop(columns=['Host Since', 'neighbourhood', 'Property Type', 'Postal Code'])\n",
        "# 'Comments','Instant Bookable', 'Is Superhost', 'Is Exact Location'"
      ],
      "metadata": {
        "id": "wRsyJD-6qSXH"
      },
      "execution_count": 184,
      "outputs": []
    },
    {
      "cell_type": "markdown",
      "source": [
        "Store EDA deady dataset as pkl file"
      ],
      "metadata": {
        "id": "qVbj0wfL_puN"
      }
    },
    {
      "cell_type": "code",
      "source": [
        "import pickle\n",
        "with open('df_EDA.pkl', 'wb') as f:\n",
        "  pickle.dump(df_EDA, f)"
      ],
      "metadata": {
        "id": "LeNQjccL_def"
      },
      "execution_count": 188,
      "outputs": []
    }
  ]
}